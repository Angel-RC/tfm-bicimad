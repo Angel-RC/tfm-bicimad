{
 "cells": [
  {
   "cell_type": "markdown",
   "metadata": {},
   "source": [
    "###### Limpieza de metadatos en el mes de julio\n",
    "El fichero mensual que contiene los datos de todos los trayectos del mes de julio de 2018 ha sido generado con multitud de espacios y saltos de línea que dificulta la legibilidad del fichero. Sólo ocurre este mes.\n",
    "Hago una limpieza previa para retirar estos símbolos."
   ]
  },
  {
   "cell_type": "code",
   "execution_count": null,
   "metadata": {},
   "outputs": [],
   "source": [
    "!cat 201807_Usage_Bicimad.json | tr -d '\\r\\n' | tr -s ' ' | sed 's/{ \"_id\"/\\n{ \"_id\"/g' | less"
   ]
  },
  {
   "cell_type": "markdown",
   "metadata": {},
   "source": [
    "###### Importación del fichero JSON"
   ]
  },
  {
   "cell_type": "code",
   "execution_count": null,
   "metadata": {},
   "outputs": [],
   "source": [
    "#!python -m pip install --upgrade pip\n",
    "#pip install iso8601\n",
    "\n",
    "#Habría que poner todos los install necesarios"
   ]
  },
  {
   "cell_type": "code",
   "execution_count": null,
   "metadata": {},
   "outputs": [],
   "source": [
    "import numpy as np\n",
    "import pandas as pd\n",
    "from geojson import Feature, FeatureCollection#, Point\n",
    "import geojson\n",
    "from shapely.geometry import Point, Polygon, LineString, MultiPoint\n",
    "import shapely\n",
    "import geopandas as gpd\n",
    "import geojsonio\n",
    "import iso8601"
   ]
  },
  {
   "cell_type": "markdown",
   "metadata": {},
   "source": [
    "Exploración del mes de agosto de 2018"
   ]
  },
  {
   "cell_type": "code",
   "execution_count": null,
   "metadata": {},
   "outputs": [],
   "source": [
    "rides = pd.read_json('data/201808_Usage_Bicimad.json',lines=True)"
   ]
  },
  {
   "cell_type": "code",
   "execution_count": null,
   "metadata": {},
   "outputs": [],
   "source": [
    "#Limpieza del campo fecha/hora, contenida en un diccionario superfluo\n",
    "rides['unplug_hourTime'] = rides['unplug_hourTime'].apply(pd.Series)['$date']"
   ]
  },
  {
   "cell_type": "code",
   "execution_count": null,
   "metadata": {},
   "outputs": [],
   "source": [
    "#Parsing a formato fecha gestionando correctamente el huso horario\n",
    "rides['unplug_hourTime']=pd.to_datetime(rides['unplug_hourTime'].apply(iso8601.parse_date))"
   ]
  },
  {
   "cell_type": "code",
   "execution_count": null,
   "metadata": {},
   "outputs": [],
   "source": [
    "#Agrupación por día para estudiar cuántos trayectos hay y cuántos disponen de track GPS\n",
    "rides2=rides[['track','unplug_hourTime']].groupby(pd.DatetimeIndex(rides['unplug_hourTime']).normalize()).count()"
   ]
  },
  {
   "cell_type": "code",
   "execution_count": null,
   "metadata": {},
   "outputs": [],
   "source": [
    "rides2['con_track']=rides2['track']/rides2['unplug_hourTime']\n",
    "rides2"
   ]
  },
  {
   "cell_type": "code",
   "execution_count": null,
   "metadata": {},
   "outputs": [],
   "source": [
    "import matplotlib.pyplot as plt \n",
    "%matplotlib inline"
   ]
  },
  {
   "cell_type": "code",
   "execution_count": null,
   "metadata": {},
   "outputs": [],
   "source": [
    "N = len(rides2.index)\n",
    "withTrack = rides2['track'] #Rides with a GPS track\n",
    "noTrack = (rides2['unplug_hourTime']-rides2['track']) #Rides without a GPS trak\n",
    "ind = np.arange(N)  \n",
    "width = 0.5       \n",
    "\n",
    "plt.figure(figsize=(25,5))\n",
    "p1 = plt.bar(ind, withTrack, width)\n",
    "p2 = plt.bar(ind, noTrack, width, bottom=withTrack)\n",
    "\n",
    "plt.ylabel('Number of rides')\n",
    "plt.xlabel('August 2018')\n",
    "plt.title('Total rides per day with or without GPS track')\n",
    "plt.xticks(ind, rides2.index.day)\n",
    "plt.yticks(np.arange(0, 14000, 1000))\n",
    "plt.legend((p1[0], p2[0]), ('With GPS track', 'No track'))\n",
    "plt.figure(figsize=(80,100))\n",
    "\n",
    "plt.show()"
   ]
  },
  {
   "cell_type": "code",
   "execution_count": null,
   "metadata": {},
   "outputs": [],
   "source": [
    "#Exporto a csv \n",
    "rides2.to_csv('diarios_agosto.csv')"
   ]
  },
  {
   "cell_type": "code",
   "execution_count": null,
   "metadata": {},
   "outputs": [],
   "source": [
    "rides.tail()"
   ]
  },
  {
   "cell_type": "code",
   "execution_count": null,
   "metadata": {},
   "outputs": [],
   "source": [
    "#Hay tipos que aún se pueden mejorar\n",
    "rides.dtypes"
   ]
  },
  {
   "cell_type": "code",
   "execution_count": null,
   "metadata": {},
   "outputs": [],
   "source": [
    "#Numero de trayectos del mes\n",
    "len(rides)"
   ]
  },
  {
   "cell_type": "code",
   "execution_count": null,
   "metadata": {},
   "outputs": [],
   "source": [
    "#Número de trayectos con información GPS\n",
    "rides['track'].count()"
   ]
  },
  {
   "cell_type": "code",
   "execution_count": null,
   "metadata": {},
   "outputs": [],
   "source": [
    "#Limpieza del campo _id, contenido en un diccionario superfluo\n",
    "rides['_id'] = rides['_id'].apply(pd.Series)['$oid']"
   ]
  },
  {
   "cell_type": "code",
   "execution_count": null,
   "metadata": {},
   "outputs": [],
   "source": [
    "rides.head()"
   ]
  },
  {
   "cell_type": "markdown",
   "metadata": {},
   "source": [
    "#### Gestion del código postal"
   ]
  },
  {
   "cell_type": "code",
   "execution_count": null,
   "metadata": {},
   "outputs": [],
   "source": [
    "#Trim de los espacios\n",
    "rides['zip_code']=rides.zip_code.str.strip()"
   ]
  },
  {
   "cell_type": "code",
   "execution_count": null,
   "metadata": {},
   "outputs": [],
   "source": [
    "#Validación de códigos postales españoles (cinco dígitos entre 01000 y 52999). Estos son los vacíos o inválidos.\n",
    "rides[-rides.zip_code.str.contains('^(?:0[1-9]|[1-4]\\d|5[0-2])\\d{3}$')]['zip_code'].value_counts()"
   ]
  },
  {
   "cell_type": "code",
   "execution_count": null,
   "metadata": {},
   "outputs": [],
   "source": [
    "#Reemplazar vacíos e inválidos por NaN, para tenerlos identificados\n",
    "rides['zip_code'].replace('^(?!^(?:0[1-9]|[1-4]\\d|5[0-2])\\d{3}$).*', np.nan, regex=True, inplace=True)"
   ]
  },
  {
   "cell_type": "code",
   "execution_count": null,
   "metadata": {},
   "outputs": [],
   "source": [
    "#Sólo hay 39 códigos postales aparentemente válidos (no necesariamente existen) con un único trayecto\n",
    "len(rides[-rides['zip_code'].duplicated(keep=False)])"
   ]
  },
  {
   "cell_type": "code",
   "execution_count": null,
   "metadata": {},
   "outputs": [],
   "source": [
    "import json"
   ]
  },
  {
   "cell_type": "code",
   "execution_count": null,
   "metadata": {},
   "outputs": [],
   "source": [
    "#Paseo de uno de Huesca\n",
    "json.dumps(rides[-rides['zip_code'].duplicated(keep=False)].iloc[0]['track'])"
   ]
  },
  {
   "cell_type": "code",
   "execution_count": null,
   "metadata": {},
   "outputs": [],
   "source": [
    "#Paseo de un turista de Castrillón\n",
    "rides[rides['zip_code'].replace(np.nan,'').str.contains('33450')].iloc[1]['track']"
   ]
  },
  {
   "cell_type": "code",
   "execution_count": null,
   "metadata": {},
   "outputs": [],
   "source": [
    "rides[['track','unplug_hourTime']].count()"
   ]
  },
  {
   "cell_type": "markdown",
   "metadata": {},
   "source": [
    "El número de enganche en el que se coge y deposita la bici es irrelevante para nuestro análisis, y nos deshacemos de él.\n",
    "Tampoco nos aporta nada el id unívoco pero lo dejo de momento, por si acaso"
   ]
  },
  {
   "cell_type": "code",
   "execution_count": null,
   "metadata": {},
   "outputs": [],
   "source": [
    "rides.drop(['idplug_base', 'idunplug_base'], axis=1, inplace=True)"
   ]
  },
  {
   "cell_type": "code",
   "execution_count": null,
   "metadata": {},
   "outputs": [],
   "source": [
    "len(rides[-rides['zip_code'].duplicated(keep=False)])"
   ]
  },
  {
   "cell_type": "code",
   "execution_count": null,
   "metadata": {},
   "outputs": [],
   "source": [
    "rides['zip_code'].value_counts()"
   ]
  },
  {
   "cell_type": "markdown",
   "metadata": {},
   "source": [
    "Primeras categorías identificadas"
   ]
  },
  {
   "cell_type": "code",
   "execution_count": null,
   "metadata": {},
   "outputs": [],
   "source": [
    "rides['idunplug_base'].value_counts()"
   ]
  },
  {
   "cell_type": "markdown",
   "metadata": {},
   "source": [
    "El \"grupo de edad\" y el \"tipo de usuario\" podemos considerarlos como categorías porque además tienen pocos valores distintos"
   ]
  },
  {
   "cell_type": "code",
   "execution_count": null,
   "metadata": {},
   "outputs": [],
   "source": [
    "rides[['ageRange','idplug_station','idunplug_station','user_type']]=\\\n",
    "rides[['ageRange','idplug_station','idunplug_station','user_type']].astype('category')"
   ]
  },
  {
   "cell_type": "code",
   "execution_count": null,
   "metadata": {},
   "outputs": [],
   "source": [
    "rides.dtypes"
   ]
  },
  {
   "cell_type": "markdown",
   "metadata": {},
   "source": [
    "Número de trayectos y duración media por grupo de edad:"
   ]
  },
  {
   "cell_type": "code",
   "execution_count": null,
   "metadata": {},
   "outputs": [],
   "source": [
    "rides[['ageRange','travel_time']].groupby('ageRange').agg(['count','mean'])"
   ]
  },
  {
   "cell_type": "code",
   "execution_count": null,
   "metadata": {},
   "outputs": [],
   "source": [
    "pd.to_timedelta(rides[['ageRange','travel_time']].groupby('ageRange').mean()['travel_time'], unit='s')"
   ]
  },
  {
   "cell_type": "code",
   "execution_count": null,
   "metadata": {},
   "outputs": [],
   "source": [
    "pd.DataFrame."
   ]
  },
  {
   "cell_type": "code",
   "execution_count": null,
   "metadata": {},
   "outputs": [],
   "source": [
    "import matplotlib.pyplot as plt \n",
    "%matplotlib inline"
   ]
  },
  {
   "cell_type": "code",
   "execution_count": null,
   "metadata": {},
   "outputs": [],
   "source": [
    "FeatureCollection(rides['track'][0][features])"
   ]
  },
  {
   "cell_type": "code",
   "execution_count": null,
   "metadata": {},
   "outputs": [],
   "source": [
    "FeatureCollection(rides['track'][0]['features'])"
   ]
  },
  {
   "cell_type": "code",
   "execution_count": null,
   "metadata": {},
   "outputs": [],
   "source": [
    "my_gdf['geometry'][2].distance(my_gdf['geometry'][30])"
   ]
  },
  {
   "cell_type": "code",
   "execution_count": null,
   "metadata": {},
   "outputs": [],
   "source": [
    "hola=gpd.GeoDataFrame.from_features(rides['track'][0]['features'], crs='WGS84')"
   ]
  },
  {
   "cell_type": "code",
   "execution_count": null,
   "metadata": {},
   "outputs": [],
   "source": [
    "hola['geometry']"
   ]
  },
  {
   "cell_type": "code",
   "execution_count": null,
   "metadata": {},
   "outputs": [],
   "source": [
    "hola"
   ]
  },
  {
   "cell_type": "code",
   "execution_count": null,
   "metadata": {},
   "outputs": [],
   "source": [
    "polygon = Polygon([(0, 0), (1, 1), (1, 0)])"
   ]
  },
  {
   "cell_type": "code",
   "execution_count": null,
   "metadata": {},
   "outputs": [],
   "source": [
    "polygon.length"
   ]
  },
  {
   "cell_type": "markdown",
   "metadata": {},
   "source": [
    "Con **Overpass_turbo** recupero la forma del parque en OpenStreetMap (OSM) en formato geoJSON"
   ]
  },
  {
   "cell_type": "code",
   "execution_count": null,
   "metadata": {},
   "outputs": [],
   "source": [
    "retiro=gpd.read_file('data/retiro.json')"
   ]
  },
  {
   "cell_type": "code",
   "execution_count": null,
   "metadata": {},
   "outputs": [],
   "source": [
    "retiro.drop(columns=retiro.columns.difference(['name','geometry']), inplace=True)"
   ]
  },
  {
   "cell_type": "code",
   "execution_count": null,
   "metadata": {},
   "outputs": [],
   "source": [
    "retiro"
   ]
  },
  {
   "cell_type": "code",
   "execution_count": null,
   "metadata": {},
   "outputs": [],
   "source": [
    "#Guardo los trayectos sin track GPS para posible uso\n",
    "ridesNoGPS = rides[rides['track'].isnull()]"
   ]
  },
  {
   "cell_type": "code",
   "execution_count": null,
   "metadata": {},
   "outputs": [],
   "source": [
    "ridesNoGPS.to_csv('data/agosto_noGPS.csv')"
   ]
  },
  {
   "cell_type": "code",
   "execution_count": null,
   "metadata": {},
   "outputs": [],
   "source": [
    "len(ridesNoGPS)"
   ]
  },
  {
   "cell_type": "code",
   "execution_count": null,
   "metadata": {},
   "outputs": [],
   "source": [
    "#Trabajamos sobre los trayectos con itinerario GPS disponible\n",
    "rides = rides.dropna(subset=['track'])"
   ]
  },
  {
   "cell_type": "code",
   "execution_count": null,
   "metadata": {},
   "outputs": [],
   "source": [
    "len(rides)"
   ]
  },
  {
   "cell_type": "code",
   "execution_count": null,
   "metadata": {},
   "outputs": [],
   "source": [
    "rides.loc[0]['track']"
   ]
  },
  {
   "cell_type": "code",
   "execution_count": null,
   "metadata": {},
   "outputs": [],
   "source": [
    "ridea=gpd.GeoDataFrame.from_features(rides['track'][0]['features'], crs='WGS84')\n",
    "rideb=gpd.GeoDataFrame.from_features(rides['track'][1]['features'], crs='WGS84')"
   ]
  },
  {
   "cell_type": "code",
   "execution_count": null,
   "metadata": {},
   "outputs": [],
   "source": [
    "august=gpd.GeoSeries()"
   ]
  },
  {
   "cell_type": "code",
   "execution_count": null,
   "metadata": {},
   "outputs": [],
   "source": [
    "for r in rides['track'] :\n",
    "    geoRide=gpd.GeoDataFrame.from_features(r['features'], crs='WGS84')['geometry']\n",
    "    print(geoRide)\n",
    "    august=august.append(geoRide)"
   ]
  },
  {
   "cell_type": "code",
   "execution_count": null,
   "metadata": {},
   "outputs": [],
   "source": [
    "audf=gpd.GeoDataFrame(august)"
   ]
  },
  {
   "cell_type": "code",
   "execution_count": null,
   "metadata": {},
   "outputs": [],
   "source": [
    "audf.drop(0,axis=1,inplace=True)"
   ]
  },
  {
   "cell_type": "code",
   "execution_count": null,
   "metadata": {},
   "outputs": [],
   "source": [
    "puntosagosto=shapely.geometry.mapping(audf['geometry'])"
   ]
  },
  {
   "cell_type": "code",
   "execution_count": null,
   "metadata": {},
   "outputs": [],
   "source": [
    "with open('puntosagosto_parcial.json', 'w') as fp:\n",
    "    geojson.dump(puntosagosto, fp)"
   ]
  },
  {
   "cell_type": "code",
   "execution_count": null,
   "metadata": {},
   "outputs": [],
   "source": [
    "audf.iloc[7500:9000].plot(figsize=[10,20])"
   ]
  },
  {
   "cell_type": "code",
   "execution_count": null,
   "metadata": {},
   "outputs": [],
   "source": [
    "p1500=gpd.GeoSeries(audf.iloc[7500:9000]['geometry'])"
   ]
  },
  {
   "cell_type": "code",
   "execution_count": null,
   "metadata": {},
   "outputs": [],
   "source": [
    "p1500.iloc[1400]"
   ]
  },
  {
   "cell_type": "code",
   "execution_count": null,
   "metadata": {},
   "outputs": [],
   "source": [
    "retiro.intersects(Point([-3.67979499972222, 40.4191539997222]))"
   ]
  },
  {
   "cell_type": "code",
   "execution_count": null,
   "metadata": {},
   "outputs": [],
   "source": [
    "type(p1500)"
   ]
  },
  {
   "cell_type": "code",
   "execution_count": null,
   "metadata": {},
   "outputs": [],
   "source": [
    "retiro.intersects(p1500).value_counts()"
   ]
  },
  {
   "cell_type": "code",
   "execution_count": null,
   "metadata": {},
   "outputs": [],
   "source": [
    "type(audf.iloc[7500:9000]['geometry'])"
   ]
  },
  {
   "cell_type": "code",
   "execution_count": null,
   "metadata": {},
   "outputs": [],
   "source": [
    "retiropol=retiro['geometry'][0]"
   ]
  },
  {
   "cell_type": "markdown",
   "metadata": {},
   "source": [
    "#### Ojo aquí, parece que ya sí"
   ]
  },
  {
   "cell_type": "code",
   "execution_count": null,
   "metadata": {},
   "outputs": [],
   "source": [
    "audf.intersects(retiropol).value_counts()"
   ]
  },
  {
   "cell_type": "code",
   "execution_count": null,
   "metadata": {},
   "outputs": [],
   "source": [
    "retiro.contains(Point([-3.683297064857466, 40.41493935]))"
   ]
  },
  {
   "cell_type": "code",
   "execution_count": null,
   "metadata": {},
   "outputs": [],
   "source": [
    "retiro.contains(test['geometry'])"
   ]
  },
  {
   "cell_type": "code",
   "execution_count": null,
   "metadata": {},
   "outputs": [],
   "source": [
    "test['geometry'][1]=Point([-3.683297064857466, 40.41493935])"
   ]
  },
  {
   "cell_type": "code",
   "execution_count": null,
   "metadata": {},
   "outputs": [],
   "source": [
    "retiro.representative_point()"
   ]
  },
  {
   "cell_type": "code",
   "execution_count": null,
   "metadata": {},
   "outputs": [],
   "source": [
    "test.index=np.zeros(test.index.size)\n",
    "test.index"
   ]
  },
  {
   "cell_type": "code",
   "execution_count": null,
   "metadata": {},
   "outputs": [],
   "source": [
    "retiro"
   ]
  },
  {
   "cell_type": "code",
   "execution_count": null,
   "metadata": {},
   "outputs": [],
   "source": [
    "p1500['geometry'].intersects(retiro)"
   ]
  },
  {
   "cell_type": "code",
   "execution_count": null,
   "metadata": {},
   "outputs": [],
   "source": [
    "test=gpd.GeoDataFrame.from_features([\n",
    "    {\n",
    "      \"type\": \"Feature\",\n",
    "      \"properties\": {},\n",
    "      \"geometry\": {\n",
    "        \"type\": \"Point\",\n",
    "        \"coordinates\": [\n",
    "          -3.6764931678771973,\n",
    "          40.41138847106793\n",
    "        ]\n",
    "      }\n",
    "    },\n",
    "    {\n",
    "      \"type\": \"Feature\",\n",
    "      \"properties\": {},\n",
    "      \"geometry\": {\n",
    "        \"type\": \"Point\",\n",
    "        \"coordinates\": [\n",
    "          -3.683981895446777,\n",
    "          40.41467234395794\n",
    "        ]\n",
    "      }\n",
    "    },\n",
    "    {\n",
    "      \"type\": \"Feature\",\n",
    "      \"properties\": {},\n",
    "      \"geometry\": {\n",
    "        \"type\": \"Point\",\n",
    "        \"coordinates\": [\n",
    "          -3.6872434616088867,\n",
    "          40.41973670935866\n",
    "        ]\n",
    "      }\n",
    "    },\n",
    "    {\n",
    "      \"type\": \"Feature\",\n",
    "      \"properties\": {},\n",
    "      \"geometry\": {\n",
    "        \"type\": \"Point\",\n",
    "        \"coordinates\": [\n",
    "          -3.689603805541992,\n",
    "          40.41475403029547\n",
    "        ]\n",
    "      }\n",
    "    }\n",
    "  ])"
   ]
  },
  {
   "cell_type": "code",
   "execution_count": null,
   "metadata": {},
   "outputs": [],
   "source": [
    "test"
   ]
  },
  {
   "cell_type": "code",
   "execution_count": null,
   "metadata": {},
   "outputs": [],
   "source": []
  },
  {
   "cell_type": "code",
   "execution_count": null,
   "metadata": {},
   "outputs": [],
   "source": []
  },
  {
   "cell_type": "code",
   "execution_count": null,
   "metadata": {},
   "outputs": [],
   "source": []
  },
  {
   "cell_type": "code",
   "execution_count": null,
   "metadata": {},
   "outputs": [],
   "source": [
    "MultiPoint(ridea['geometry'])"
   ]
  },
  {
   "cell_type": "code",
   "execution_count": null,
   "metadata": {},
   "outputs": [],
   "source": [
    "Polygon(retiro['geometry'][0])"
   ]
  },
  {
   "cell_type": "markdown",
   "metadata": {},
   "source": [
    "```In [1]: from geojson import Feature, Point, FeatureCollection\n",
    "In [2]: my_feature = Feature(geometry=Point((1.6432, -19.123)), properties={\"country\": \"Spain\"})\n",
    "In [3]: my_other_feature = Feature(geometry=Point((-80.234, -22.532)), properties={'country': 'Brazil'})\n",
    "In [4]: collection = FeatureCollection([my_feature, my_other_feature])\n",
    "In [6]: import geopandas\n",
    "In [7]: geopandas.GeoDataFrame.from_features(collection['features'])\n",
    "Out[7]:\n",
    "  country                 geometry\n",
    "0   Spain   POINT (1.6432 -19.123)\n",
    "1  Brazil  POINT (-80.234 -22.532)```"
   ]
  },
  {
   "cell_type": "code",
   "execution_count": null,
   "metadata": {},
   "outputs": [],
   "source": [
    "#Por cada trayecto creo que debo meter la sucesión de puntos como una GeoSeries\n",
    "rides.loc[96274]['track']"
   ]
  },
  {
   "cell_type": "code",
   "execution_count": null,
   "metadata": {},
   "outputs": [],
   "source": [
    "{\n",
    "         \"type\": \"Polygon\",\n",
    "         \"coordinates\": [\n",
    "             [\n",
    "                 [100.0, 0.0],\n",
    "                 [101.0, 0.0],\n",
    "                 [101.0, 1.0],\n",
    "                 [100.0, 1.0],\n",
    "                 [100.0, 0.0]\n",
    "             ]\n",
    "         ]\n",
    "     }"
   ]
  }
 ],
 "metadata": {
  "kernelspec": {
   "display_name": "Python 3",
   "language": "python",
   "name": "python3"
  },
  "language_info": {
   "codemirror_mode": {
    "name": "ipython",
    "version": 3
   },
   "file_extension": ".py",
   "mimetype": "text/x-python",
   "name": "python",
   "nbconvert_exporter": "python",
   "pygments_lexer": "ipython3",
   "version": "3.6.5"
  }
 },
 "nbformat": 4,
 "nbformat_minor": 2
}
