{
 "cells": [
  {
   "cell_type": "markdown",
   "metadata": {},
   "source": [
    "# BiciMAD en El Retiro\n",
    "## 1. Carga y limpieza de datos\n"
   ]
  },
  {
   "cell_type": "markdown",
   "metadata": {},
   "source": [
    "### Motivación\n",
    "Comenzamos el estudio de los datos de BiciMAD con el objetivo último de conocer mejor la actividad de los usuarios de este servicio que transitan por el interior del parque.<br>\n",
    "En este notebook cargaremos datos <a href='http://opendata.emtmadrid.es/Datos-estaticos/Datos-generales-(1)'>proporcionados por la EMT</a>, gestora del servicio, y los prepararemos para el procesado posterior.<br><br>\n",
    "Nos centraremos en la actividad del mes de **agosto de 2018**, con datos que comprenden casi **275.000** trayectos efectuados en ese mes en Madrid. Tras haber revisado datos de todos los meses, y habiéndolo confirmado con la EMT, debido a problemas técnicos más de la mitad de los datos del año 2017-2018 carecen de track GPS que permita conocer la ubicación de los mismos. Otro meses contienen pocos tracks GPS debido a averías en muchas bicicletas. <br>A partir de verano de 2018 la situación mejora y, en agosto, más del 80% de los trayectos incluyen track."
   ]
  },
  {
   "cell_type": "markdown",
   "metadata": {},
   "source": [
    "⌛ _Se puede lanzar todo el notebook de una vez: tiempo estimado de ejecución 4 minutos_"
   ]
  },
  {
   "cell_type": "markdown",
   "metadata": {},
   "source": [
    "### Librerías\n",
    "Es necesario instalar e importar las librerías siguientes: "
   ]
  },
  {
   "cell_type": "code",
   "execution_count": 1,
   "metadata": {},
   "outputs": [],
   "source": [
    "import numpy as np\n",
    "import pandas as pd\n",
    "\n",
    "#Reconstrucción de la zona horaria en formato ISO-8601\n",
    "#!pip install iso8601\n",
    "import iso8601\n",
    "\n",
    "#Dump de dict a (geo)json\n",
    "import json\n",
    "\n",
    "#Visualización\n",
    "import matplotlib.pyplot as plt \n",
    "%matplotlib inline"
   ]
  },
  {
   "cell_type": "markdown",
   "metadata": {},
   "source": [
    "### Importación del fichero"
   ]
  },
  {
   "cell_type": "markdown",
   "metadata": {},
   "source": [
    "El fichero comprimido **201808_Usage_Bicimad.zip** se encuentra en la carpeta data y también puede descargarse del enlace proporcionado antes. <br>En su interior contiene un fichero JSON con un trayecto por línea."
   ]
  },
  {
   "cell_type": "code",
   "execution_count": 2,
   "metadata": {},
   "outputs": [],
   "source": [
    "# /!\\ Wall time: 25 s\n",
    "rides = pd.read_json('data/201808_Usage_Bicimad.zip', lines=True)"
   ]
  },
  {
   "cell_type": "markdown",
   "metadata": {},
   "source": [
    "En la página de la EMT encontramos <a href=\"http://opendata.emtmadrid.es/Documentos/Servicios-y-estructuras-Bicimad-V1-1.aspx\">la estructura y explicación funcional</a> de los campos contenidos."
   ]
  },
  {
   "cell_type": "code",
   "execution_count": 3,
   "metadata": {},
   "outputs": [
    {
     "data": {
      "text/html": [
       "<div>\n",
       "<style scoped>\n",
       "    .dataframe tbody tr th:only-of-type {\n",
       "        vertical-align: middle;\n",
       "    }\n",
       "\n",
       "    .dataframe tbody tr th {\n",
       "        vertical-align: top;\n",
       "    }\n",
       "\n",
       "    .dataframe thead th {\n",
       "        text-align: right;\n",
       "    }\n",
       "</style>\n",
       "<table border=\"1\" class=\"dataframe\">\n",
       "  <thead>\n",
       "    <tr style=\"text-align: right;\">\n",
       "      <th></th>\n",
       "      <th>_id</th>\n",
       "      <th>ageRange</th>\n",
       "      <th>idplug_base</th>\n",
       "      <th>idplug_station</th>\n",
       "      <th>idunplug_base</th>\n",
       "      <th>idunplug_station</th>\n",
       "      <th>track</th>\n",
       "      <th>travel_time</th>\n",
       "      <th>unplug_hourTime</th>\n",
       "      <th>user_day_code</th>\n",
       "      <th>user_type</th>\n",
       "      <th>zip_code</th>\n",
       "    </tr>\n",
       "  </thead>\n",
       "  <tbody>\n",
       "    <tr>\n",
       "      <th>0</th>\n",
       "      <td>{'$oid': '5b6779012f384302541d6813'}</td>\n",
       "      <td>0</td>\n",
       "      <td>11</td>\n",
       "      <td>43</td>\n",
       "      <td>7</td>\n",
       "      <td>1</td>\n",
       "      <td>{'type': 'FeatureCollection', 'features': [{'g...</td>\n",
       "      <td>228</td>\n",
       "      <td>{'$date': '2018-08-01T01:00:00.000+0200'}</td>\n",
       "      <td>6c30d6e283ea7a160379fa9adb20b93d2c06e16853ad08...</td>\n",
       "      <td>1</td>\n",
       "      <td></td>\n",
       "    </tr>\n",
       "    <tr>\n",
       "      <th>1</th>\n",
       "      <td>{'$oid': '5b6779012f384302541d6814'}</td>\n",
       "      <td>0</td>\n",
       "      <td>22</td>\n",
       "      <td>11</td>\n",
       "      <td>11</td>\n",
       "      <td>163</td>\n",
       "      <td>{'type': 'FeatureCollection', 'features': [{'g...</td>\n",
       "      <td>378</td>\n",
       "      <td>{'$date': '2018-08-01T01:00:00.000+0200'}</td>\n",
       "      <td>88de7f2b4cb6d46c31cd610e3366f0a099b78f6edf1330...</td>\n",
       "      <td>1</td>\n",
       "      <td></td>\n",
       "    </tr>\n",
       "    <tr>\n",
       "      <th>2</th>\n",
       "      <td>{'$oid': '5b6779012f384302541d6819'}</td>\n",
       "      <td>0</td>\n",
       "      <td>14</td>\n",
       "      <td>80</td>\n",
       "      <td>2</td>\n",
       "      <td>46</td>\n",
       "      <td>{'type': 'FeatureCollection', 'features': [{'g...</td>\n",
       "      <td>380</td>\n",
       "      <td>{'$date': '2018-08-01T01:00:00.000+0200'}</td>\n",
       "      <td>2b98916eebc487417337892097e5fd62157e5ff30f36ec...</td>\n",
       "      <td>1</td>\n",
       "      <td></td>\n",
       "    </tr>\n",
       "  </tbody>\n",
       "</table>\n",
       "</div>"
      ],
      "text/plain": [
       "                                    _id  ageRange  idplug_base  \\\n",
       "0  {'$oid': '5b6779012f384302541d6813'}         0           11   \n",
       "1  {'$oid': '5b6779012f384302541d6814'}         0           22   \n",
       "2  {'$oid': '5b6779012f384302541d6819'}         0           14   \n",
       "\n",
       "   idplug_station  idunplug_base  idunplug_station  \\\n",
       "0              43              7                 1   \n",
       "1              11             11               163   \n",
       "2              80              2                46   \n",
       "\n",
       "                                               track  travel_time  \\\n",
       "0  {'type': 'FeatureCollection', 'features': [{'g...          228   \n",
       "1  {'type': 'FeatureCollection', 'features': [{'g...          378   \n",
       "2  {'type': 'FeatureCollection', 'features': [{'g...          380   \n",
       "\n",
       "                             unplug_hourTime  \\\n",
       "0  {'$date': '2018-08-01T01:00:00.000+0200'}   \n",
       "1  {'$date': '2018-08-01T01:00:00.000+0200'}   \n",
       "2  {'$date': '2018-08-01T01:00:00.000+0200'}   \n",
       "\n",
       "                                       user_day_code  user_type zip_code  \n",
       "0  6c30d6e283ea7a160379fa9adb20b93d2c06e16853ad08...          1           \n",
       "1  88de7f2b4cb6d46c31cd610e3366f0a099b78f6edf1330...          1           \n",
       "2  2b98916eebc487417337892097e5fd62157e5ff30f36ec...          1           "
      ]
     },
     "execution_count": 3,
     "metadata": {},
     "output_type": "execute_result"
    }
   ],
   "source": [
    "rides.head(3)"
   ]
  },
  {
   "cell_type": "markdown",
   "metadata": {},
   "source": [
    "Comenzamos a adaptar los datos."
   ]
  },
  {
   "cell_type": "markdown",
   "metadata": {},
   "source": [
    "### Tratamiento de datos"
   ]
  },
  {
   "cell_type": "markdown",
   "metadata": {},
   "source": [
    "###### Fecha y hora"
   ]
  },
  {
   "cell_type": "code",
   "execution_count": 4,
   "metadata": {},
   "outputs": [
    {
     "data": {
      "text/plain": [
       "0    2018-08-01T01:00:00.000+0200\n",
       "Name: unplug_hourTime, dtype: object"
      ]
     },
     "execution_count": 4,
     "metadata": {},
     "output_type": "execute_result"
    }
   ],
   "source": [
    "#Limpieza del campo fecha/hora, contenida en un diccionario superfluo bajo la clave $date\n",
    "# /!\\ Wall time: 1min 2s\n",
    "rides['unplug_hourTime'] = rides['unplug_hourTime'].apply(pd.Series)['$date']\n",
    "rides['unplug_hourTime'].head(1)"
   ]
  },
  {
   "cell_type": "code",
   "execution_count": 5,
   "metadata": {},
   "outputs": [],
   "source": [
    "#Convertimos a formato fecha gestionando previamente el huso horario en formato ISO-8601\n",
    "rides['unplug_hourTime'] = pd.to_datetime(rides['unplug_hourTime'].apply(iso8601.parse_date))"
   ]
  },
  {
   "cell_type": "markdown",
   "metadata": {},
   "source": [
    "Con la fecha bien formateada vamos a revisar el estado de los trayectos con o sin GPS este mes."
   ]
  },
  {
   "cell_type": "code",
   "execution_count": 6,
   "metadata": {},
   "outputs": [
    {
     "data": {
      "text/plain": [
       "274122"
      ]
     },
     "execution_count": 6,
     "metadata": {},
     "output_type": "execute_result"
    }
   ],
   "source": [
    "#Numero de trayectos del mes\n",
    "len(rides)"
   ]
  },
  {
   "cell_type": "markdown",
   "metadata": {},
   "source": [
    "###### Existencia de track"
   ]
  },
  {
   "cell_type": "code",
   "execution_count": 7,
   "metadata": {},
   "outputs": [
    {
     "data": {
      "text/plain": [
       "224536"
      ]
     },
     "execution_count": 7,
     "metadata": {},
     "output_type": "execute_result"
    }
   ],
   "source": [
    "#Número de trayectos con información GPS\n",
    "rides['track'].count()"
   ]
  },
  {
   "cell_type": "code",
   "execution_count": 8,
   "metadata": {},
   "outputs": [],
   "source": [
    "#Agrupación por día\n",
    "rides2 = rides[['track','unplug_hourTime']].groupby(pd.DatetimeIndex(rides['unplug_hourTime']).normalize()).count().copy()"
   ]
  },
  {
   "cell_type": "code",
   "execution_count": 9,
   "metadata": {
    "scrolled": true
   },
   "outputs": [
    {
     "data": {
      "text/html": [
       "<div>\n",
       "<style scoped>\n",
       "    .dataframe tbody tr th:only-of-type {\n",
       "        vertical-align: middle;\n",
       "    }\n",
       "\n",
       "    .dataframe tbody tr th {\n",
       "        vertical-align: top;\n",
       "    }\n",
       "\n",
       "    .dataframe thead th {\n",
       "        text-align: right;\n",
       "    }\n",
       "</style>\n",
       "<table border=\"1\" class=\"dataframe\">\n",
       "  <thead>\n",
       "    <tr style=\"text-align: right;\">\n",
       "      <th></th>\n",
       "      <th>track</th>\n",
       "      <th>unplug_hourTime</th>\n",
       "      <th>con_track</th>\n",
       "    </tr>\n",
       "    <tr>\n",
       "      <th>unplug_hourTime</th>\n",
       "      <th></th>\n",
       "      <th></th>\n",
       "      <th></th>\n",
       "    </tr>\n",
       "  </thead>\n",
       "  <tbody>\n",
       "    <tr>\n",
       "      <th>2018-08-01 00:00:00+02:00</th>\n",
       "      <td>10470</td>\n",
       "      <td>12843</td>\n",
       "      <td>0.815230</td>\n",
       "    </tr>\n",
       "    <tr>\n",
       "      <th>2018-08-02 00:00:00+02:00</th>\n",
       "      <td>10236</td>\n",
       "      <td>12743</td>\n",
       "      <td>0.803265</td>\n",
       "    </tr>\n",
       "    <tr>\n",
       "      <th>2018-08-03 00:00:00+02:00</th>\n",
       "      <td>8929</td>\n",
       "      <td>10936</td>\n",
       "      <td>0.816478</td>\n",
       "    </tr>\n",
       "    <tr>\n",
       "      <th>2018-08-04 00:00:00+02:00</th>\n",
       "      <td>5962</td>\n",
       "      <td>7195</td>\n",
       "      <td>0.828631</td>\n",
       "    </tr>\n",
       "    <tr>\n",
       "      <th>2018-08-05 00:00:00+02:00</th>\n",
       "      <td>5744</td>\n",
       "      <td>7027</td>\n",
       "      <td>0.817419</td>\n",
       "    </tr>\n",
       "    <tr>\n",
       "      <th>2018-08-06 00:00:00+02:00</th>\n",
       "      <td>8253</td>\n",
       "      <td>10003</td>\n",
       "      <td>0.825052</td>\n",
       "    </tr>\n",
       "    <tr>\n",
       "      <th>2018-08-07 00:00:00+02:00</th>\n",
       "      <td>9014</td>\n",
       "      <td>11046</td>\n",
       "      <td>0.816042</td>\n",
       "    </tr>\n",
       "    <tr>\n",
       "      <th>2018-08-08 00:00:00+02:00</th>\n",
       "      <td>9180</td>\n",
       "      <td>11144</td>\n",
       "      <td>0.823762</td>\n",
       "    </tr>\n",
       "    <tr>\n",
       "      <th>2018-08-09 00:00:00+02:00</th>\n",
       "      <td>9105</td>\n",
       "      <td>11148</td>\n",
       "      <td>0.816738</td>\n",
       "    </tr>\n",
       "    <tr>\n",
       "      <th>2018-08-10 00:00:00+02:00</th>\n",
       "      <td>7992</td>\n",
       "      <td>9809</td>\n",
       "      <td>0.814762</td>\n",
       "    </tr>\n",
       "    <tr>\n",
       "      <th>2018-08-11 00:00:00+02:00</th>\n",
       "      <td>5796</td>\n",
       "      <td>7050</td>\n",
       "      <td>0.822128</td>\n",
       "    </tr>\n",
       "    <tr>\n",
       "      <th>2018-08-12 00:00:00+02:00</th>\n",
       "      <td>5546</td>\n",
       "      <td>6733</td>\n",
       "      <td>0.823704</td>\n",
       "    </tr>\n",
       "    <tr>\n",
       "      <th>2018-08-13 00:00:00+02:00</th>\n",
       "      <td>7719</td>\n",
       "      <td>9308</td>\n",
       "      <td>0.829287</td>\n",
       "    </tr>\n",
       "    <tr>\n",
       "      <th>2018-08-14 00:00:00+02:00</th>\n",
       "      <td>8221</td>\n",
       "      <td>10034</td>\n",
       "      <td>0.819314</td>\n",
       "    </tr>\n",
       "    <tr>\n",
       "      <th>2018-08-15 00:00:00+02:00</th>\n",
       "      <td>6329</td>\n",
       "      <td>7759</td>\n",
       "      <td>0.815698</td>\n",
       "    </tr>\n",
       "    <tr>\n",
       "      <th>2018-08-16 00:00:00+02:00</th>\n",
       "      <td>8035</td>\n",
       "      <td>9847</td>\n",
       "      <td>0.815985</td>\n",
       "    </tr>\n",
       "    <tr>\n",
       "      <th>2018-08-17 00:00:00+02:00</th>\n",
       "      <td>7275</td>\n",
       "      <td>9000</td>\n",
       "      <td>0.808333</td>\n",
       "    </tr>\n",
       "    <tr>\n",
       "      <th>2018-08-18 00:00:00+02:00</th>\n",
       "      <td>5329</td>\n",
       "      <td>6552</td>\n",
       "      <td>0.813339</td>\n",
       "    </tr>\n",
       "    <tr>\n",
       "      <th>2018-08-19 00:00:00+02:00</th>\n",
       "      <td>5641</td>\n",
       "      <td>6827</td>\n",
       "      <td>0.826278</td>\n",
       "    </tr>\n",
       "    <tr>\n",
       "      <th>2018-08-20 00:00:00+02:00</th>\n",
       "      <td>8438</td>\n",
       "      <td>10321</td>\n",
       "      <td>0.817556</td>\n",
       "    </tr>\n",
       "    <tr>\n",
       "      <th>2018-08-21 00:00:00+02:00</th>\n",
       "      <td>9000</td>\n",
       "      <td>11025</td>\n",
       "      <td>0.816327</td>\n",
       "    </tr>\n",
       "    <tr>\n",
       "      <th>2018-08-22 00:00:00+02:00</th>\n",
       "      <td>9643</td>\n",
       "      <td>11632</td>\n",
       "      <td>0.829006</td>\n",
       "    </tr>\n",
       "    <tr>\n",
       "      <th>2018-08-23 00:00:00+02:00</th>\n",
       "      <td>9825</td>\n",
       "      <td>11916</td>\n",
       "      <td>0.824522</td>\n",
       "    </tr>\n",
       "    <tr>\n",
       "      <th>2018-08-24 00:00:00+02:00</th>\n",
       "      <td>9105</td>\n",
       "      <td>11024</td>\n",
       "      <td>0.825925</td>\n",
       "    </tr>\n",
       "    <tr>\n",
       "      <th>2018-08-25 00:00:00+02:00</th>\n",
       "      <td>6666</td>\n",
       "      <td>8131</td>\n",
       "      <td>0.819825</td>\n",
       "    </tr>\n",
       "    <tr>\n",
       "      <th>2018-08-26 00:00:00+02:00</th>\n",
       "      <td>6350</td>\n",
       "      <td>7866</td>\n",
       "      <td>0.807272</td>\n",
       "    </tr>\n",
       "    <tr>\n",
       "      <th>2018-08-27 00:00:00+02:00</th>\n",
       "      <td>9901</td>\n",
       "      <td>11980</td>\n",
       "      <td>0.826461</td>\n",
       "    </tr>\n",
       "    <tr>\n",
       "      <th>2018-08-28 00:00:00+02:00</th>\n",
       "      <td>10693</td>\n",
       "      <td>13046</td>\n",
       "      <td>0.819638</td>\n",
       "    </tr>\n",
       "    <tr>\n",
       "      <th>2018-08-29 00:00:00+02:00</th>\n",
       "      <td>139</td>\n",
       "      <td>177</td>\n",
       "      <td>0.785311</td>\n",
       "    </tr>\n",
       "  </tbody>\n",
       "</table>\n",
       "</div>"
      ],
      "text/plain": [
       "                           track  unplug_hourTime  con_track\n",
       "unplug_hourTime                                             \n",
       "2018-08-01 00:00:00+02:00  10470            12843   0.815230\n",
       "2018-08-02 00:00:00+02:00  10236            12743   0.803265\n",
       "2018-08-03 00:00:00+02:00   8929            10936   0.816478\n",
       "2018-08-04 00:00:00+02:00   5962             7195   0.828631\n",
       "2018-08-05 00:00:00+02:00   5744             7027   0.817419\n",
       "2018-08-06 00:00:00+02:00   8253            10003   0.825052\n",
       "2018-08-07 00:00:00+02:00   9014            11046   0.816042\n",
       "2018-08-08 00:00:00+02:00   9180            11144   0.823762\n",
       "2018-08-09 00:00:00+02:00   9105            11148   0.816738\n",
       "2018-08-10 00:00:00+02:00   7992             9809   0.814762\n",
       "2018-08-11 00:00:00+02:00   5796             7050   0.822128\n",
       "2018-08-12 00:00:00+02:00   5546             6733   0.823704\n",
       "2018-08-13 00:00:00+02:00   7719             9308   0.829287\n",
       "2018-08-14 00:00:00+02:00   8221            10034   0.819314\n",
       "2018-08-15 00:00:00+02:00   6329             7759   0.815698\n",
       "2018-08-16 00:00:00+02:00   8035             9847   0.815985\n",
       "2018-08-17 00:00:00+02:00   7275             9000   0.808333\n",
       "2018-08-18 00:00:00+02:00   5329             6552   0.813339\n",
       "2018-08-19 00:00:00+02:00   5641             6827   0.826278\n",
       "2018-08-20 00:00:00+02:00   8438            10321   0.817556\n",
       "2018-08-21 00:00:00+02:00   9000            11025   0.816327\n",
       "2018-08-22 00:00:00+02:00   9643            11632   0.829006\n",
       "2018-08-23 00:00:00+02:00   9825            11916   0.824522\n",
       "2018-08-24 00:00:00+02:00   9105            11024   0.825925\n",
       "2018-08-25 00:00:00+02:00   6666             8131   0.819825\n",
       "2018-08-26 00:00:00+02:00   6350             7866   0.807272\n",
       "2018-08-27 00:00:00+02:00   9901            11980   0.826461\n",
       "2018-08-28 00:00:00+02:00  10693            13046   0.819638\n",
       "2018-08-29 00:00:00+02:00    139              177   0.785311"
      ]
     },
     "execution_count": 9,
     "metadata": {},
     "output_type": "execute_result"
    }
   ],
   "source": [
    "rides2['con_track'] = rides2['track'] / rides2['unplug_hourTime']\n",
    "rides2"
   ]
  },
  {
   "cell_type": "markdown",
   "metadata": {},
   "source": [
    "Esto nos indica que el **82%** de los trayectos de agosto tienen track GPS, muy constante todos los días, lo cuál está bastante bien. Dado que la ausencia de GPS es algo aleatorio, independientemente de una zona o estación en concreto, en los conteos posteriores que hagamos podríamos aplicar un factor **1.22x** para aproximar lo que sería el número real de trayectos que han pasado por el parque."
   ]
  },
  {
   "cell_type": "code",
   "execution_count": 10,
   "metadata": {
    "scrolled": true
   },
   "outputs": [
    {
     "data": {
      "image/png": "[encoded data removed]",
      "text/plain": [
       "<Figure size 1440x360 with 1 Axes>"
      ]
     },
     "metadata": {},
     "output_type": "display_data"
    },
    {
     "data": {
      "text/plain": [
       "<Figure size 5760x7200 with 0 Axes>"
      ]
     },
     "metadata": {},
     "output_type": "display_data"
    }
   ],
   "source": [
    "N = len(rides2.index)\n",
    "withTrack = rides2['track'] #Rides con GPS\n",
    "noTrack = (rides2['unplug_hourTime']-rides2['track']) #Rides sin GPS\n",
    "ind = np.arange(N)  \n",
    "width = 0.5       \n",
    "\n",
    "plt.figure(figsize=(20,5))\n",
    "p1 = plt.bar(ind, withTrack, width)\n",
    "p2 = plt.bar(ind, noTrack, width, bottom=withTrack)\n",
    "\n",
    "plt.ylabel('Numero de trayectos')\n",
    "plt.xlabel('Agosto 2018')\n",
    "plt.title('Trayectos totales del mes, con o sin track GPS')\n",
    "plt.xticks(ind, rides2.index.day)\n",
    "plt.yticks(np.arange(0, 14000, 1000))\n",
    "plt.legend((p1[0], p2[0]), ('Con track', 'Sin track'))\n",
    "plt.figure(figsize=(80,100))\n",
    "\n",
    "plt.show()"
   ]
  },
  {
   "cell_type": "code",
   "execution_count": 11,
   "metadata": {},
   "outputs": [
    {
     "data": {
      "text/html": [
       "<div>\n",
       "<style scoped>\n",
       "    .dataframe tbody tr th:only-of-type {\n",
       "        vertical-align: middle;\n",
       "    }\n",
       "\n",
       "    .dataframe tbody tr th {\n",
       "        vertical-align: top;\n",
       "    }\n",
       "\n",
       "    .dataframe thead th {\n",
       "        text-align: right;\n",
       "    }\n",
       "</style>\n",
       "<table border=\"1\" class=\"dataframe\">\n",
       "  <thead>\n",
       "    <tr style=\"text-align: right;\">\n",
       "      <th></th>\n",
       "      <th>_id</th>\n",
       "      <th>ageRange</th>\n",
       "      <th>idplug_base</th>\n",
       "      <th>idplug_station</th>\n",
       "      <th>idunplug_base</th>\n",
       "      <th>idunplug_station</th>\n",
       "      <th>track</th>\n",
       "      <th>travel_time</th>\n",
       "      <th>unplug_hourTime</th>\n",
       "      <th>user_day_code</th>\n",
       "      <th>user_type</th>\n",
       "      <th>zip_code</th>\n",
       "    </tr>\n",
       "  </thead>\n",
       "  <tbody>\n",
       "    <tr>\n",
       "      <th>274118</th>\n",
       "      <td>{'$oid': '5b8c62cb2f38432c70d0921b'}</td>\n",
       "      <td>6</td>\n",
       "      <td>9</td>\n",
       "      <td>140</td>\n",
       "      <td>27</td>\n",
       "      <td>95</td>\n",
       "      <td>{'type': 'FeatureCollection', 'features': [{'g...</td>\n",
       "      <td>738</td>\n",
       "      <td>2018-08-29 00:00:00+02:00</td>\n",
       "      <td>a02b82e667da1fb85b73a29a05ddceada1b5dab16172d6...</td>\n",
       "      <td>1</td>\n",
       "      <td>28039</td>\n",
       "    </tr>\n",
       "    <tr>\n",
       "      <th>274119</th>\n",
       "      <td>{'$oid': '5b8c62cb2f38432c70d0921c'}</td>\n",
       "      <td>4</td>\n",
       "      <td>30</td>\n",
       "      <td>95</td>\n",
       "      <td>22</td>\n",
       "      <td>172</td>\n",
       "      <td>{'type': 'FeatureCollection', 'features': [{'g...</td>\n",
       "      <td>868</td>\n",
       "      <td>2018-08-29 00:00:00+02:00</td>\n",
       "      <td>52d96c4f5f152b0bee0794f2511e9dd9bd377022af1fad...</td>\n",
       "      <td>1</td>\n",
       "      <td>28001</td>\n",
       "    </tr>\n",
       "    <tr>\n",
       "      <th>274120</th>\n",
       "      <td>{'$oid': '5b8c62cb2f38432c70d0921d'}</td>\n",
       "      <td>2</td>\n",
       "      <td>1</td>\n",
       "      <td>136</td>\n",
       "      <td>1</td>\n",
       "      <td>46</td>\n",
       "      <td>NaN</td>\n",
       "      <td>990</td>\n",
       "      <td>2018-08-29 00:00:00+02:00</td>\n",
       "      <td>adf9662785e341aa1aff172dcf1ee2c91f761a51497720...</td>\n",
       "      <td>1</td>\n",
       "      <td>28005</td>\n",
       "    </tr>\n",
       "    <tr>\n",
       "      <th>274121</th>\n",
       "      <td>{'$oid': '5b8c62cb2f38432c70d0921e'}</td>\n",
       "      <td>0</td>\n",
       "      <td>13</td>\n",
       "      <td>132</td>\n",
       "      <td>3</td>\n",
       "      <td>114</td>\n",
       "      <td>{'type': 'FeatureCollection', 'features': [{'g...</td>\n",
       "      <td>1005</td>\n",
       "      <td>2018-08-29 00:00:00+02:00</td>\n",
       "      <td>1c873fa1b5f2253566faa1d54299cf4af00b6dfb3ebd4e...</td>\n",
       "      <td>1</td>\n",
       "      <td></td>\n",
       "    </tr>\n",
       "  </tbody>\n",
       "</table>\n",
       "</div>"
      ],
      "text/plain": [
       "                                         _id  ageRange  idplug_base  \\\n",
       "274118  {'$oid': '5b8c62cb2f38432c70d0921b'}         6            9   \n",
       "274119  {'$oid': '5b8c62cb2f38432c70d0921c'}         4           30   \n",
       "274120  {'$oid': '5b8c62cb2f38432c70d0921d'}         2            1   \n",
       "274121  {'$oid': '5b8c62cb2f38432c70d0921e'}         0           13   \n",
       "\n",
       "        idplug_station  idunplug_base  idunplug_station  \\\n",
       "274118             140             27                95   \n",
       "274119              95             22               172   \n",
       "274120             136              1                46   \n",
       "274121             132              3               114   \n",
       "\n",
       "                                                    track  travel_time  \\\n",
       "274118  {'type': 'FeatureCollection', 'features': [{'g...          738   \n",
       "274119  {'type': 'FeatureCollection', 'features': [{'g...          868   \n",
       "274120                                                NaN          990   \n",
       "274121  {'type': 'FeatureCollection', 'features': [{'g...         1005   \n",
       "\n",
       "                 unplug_hourTime  \\\n",
       "274118 2018-08-29 00:00:00+02:00   \n",
       "274119 2018-08-29 00:00:00+02:00   \n",
       "274120 2018-08-29 00:00:00+02:00   \n",
       "274121 2018-08-29 00:00:00+02:00   \n",
       "\n",
       "                                            user_day_code  user_type zip_code  \n",
       "274118  a02b82e667da1fb85b73a29a05ddceada1b5dab16172d6...          1    28039  \n",
       "274119  52d96c4f5f152b0bee0794f2511e9dd9bd377022af1fad...          1    28001  \n",
       "274120  adf9662785e341aa1aff172dcf1ee2c91f761a51497720...          1    28005  \n",
       "274121  1c873fa1b5f2253566faa1d54299cf4af00b6dfb3ebd4e...          1           "
      ]
     },
     "execution_count": 11,
     "metadata": {},
     "output_type": "execute_result"
    }
   ],
   "source": [
    "rides.tail(4)"
   ]
  },
  {
   "cell_type": "markdown",
   "metadata": {},
   "source": [
    "Viendo el gráfico y las últimas líneas, parece que el mes no está completo, tendremos 4 semanas exactas, del **1 al 28** de agosto. En el resto de meses esta ausencia de los últimos días también ocurre, podría ser debido a alguna restricción técnica en la generación de los datos."
   ]
  },
  {
   "cell_type": "code",
   "execution_count": 12,
   "metadata": {
    "scrolled": true
   },
   "outputs": [
    {
     "data": {
      "text/plain": [
       "_id                                 object\n",
       "ageRange                             int64\n",
       "idplug_base                          int64\n",
       "idplug_station                       int64\n",
       "idunplug_base                        int64\n",
       "idunplug_station                     int64\n",
       "track                               object\n",
       "travel_time                          int64\n",
       "unplug_hourTime     datetime64[ns, +02:00]\n",
       "user_day_code                       object\n",
       "user_type                            int64\n",
       "zip_code                            object\n",
       "dtype: object"
      ]
     },
     "execution_count": 12,
     "metadata": {},
     "output_type": "execute_result"
    }
   ],
   "source": [
    "#Hay tipos que aún se pueden mejorar\n",
    "rides.dtypes"
   ]
  },
  {
   "cell_type": "markdown",
   "metadata": {},
   "source": [
    "###### ID del trayecto"
   ]
  },
  {
   "cell_type": "code",
   "execution_count": 13,
   "metadata": {},
   "outputs": [
    {
     "data": {
      "text/plain": [
       "0    5b6779012f384302541d6813\n",
       "Name: _id, dtype: object"
      ]
     },
     "execution_count": 13,
     "metadata": {},
     "output_type": "execute_result"
    }
   ],
   "source": [
    "#Limpieza del campo _id, contenido en un diccionario superfluo bajo la clave $oid\n",
    "\n",
    "# /!\\ Wall time: 1min 2s\n",
    "rides['_id'] = rides['_id'].apply(pd.Series)['$oid']\n",
    "rides['_id'].head(1)"
   ]
  },
  {
   "cell_type": "code",
   "execution_count": 14,
   "metadata": {
    "scrolled": true
   },
   "outputs": [
    {
     "data": {
      "text/plain": [
       "0    5b6779012f384302541d6813\n",
       "Name: _id, dtype: object"
      ]
     },
     "execution_count": 14,
     "metadata": {},
     "output_type": "execute_result"
    }
   ],
   "source": [
    "rides['_id'].head(1)"
   ]
  },
  {
   "cell_type": "markdown",
   "metadata": {},
   "source": [
    "###### Código postal"
   ]
  },
  {
   "cell_type": "code",
   "execution_count": 15,
   "metadata": {},
   "outputs": [],
   "source": [
    "#Trim de los espacios\n",
    "rides['zip_code']=rides.zip_code.str.strip()"
   ]
  },
  {
   "cell_type": "code",
   "execution_count": 16,
   "metadata": {
    "scrolled": true
   },
   "outputs": [
    {
     "data": {
      "text/plain": [
       "                         133679\n",
       "CODIGO_POSTAL_NOT_DEF        57\n",
       "2008                         26\n",
       "maxima87uk                   21\n",
       "000000                       20\n",
       "280151                       13\n",
       "69003                        11\n",
       "28099912                      9\n",
       "28                            8\n",
       "2803                          7\n",
       "62973                         7\n",
       "286911                        7\n",
       "2845                          3\n",
       "00000                         2\n",
       "58004                         2\n",
       "2007                          1\n",
       "00188                         1\n",
       "75007                         1\n",
       "daver                         1\n",
       "646441026                     1\n",
       "6301                          1\n",
       "90007                         1\n",
       "Name: zip_code, dtype: int64"
      ]
     },
     "execution_count": 16,
     "metadata": {},
     "output_type": "execute_result"
    }
   ],
   "source": [
    "#Validación de códigos postales españoles (cinco dígitos entre 01000 y 52999). Estos son los vacíos o inválidos.\n",
    "rides[-rides.zip_code.str.contains('^(?:0[1-9]|[1-4]\\d|5[0-2])\\d{3}$')]['zip_code'].value_counts()"
   ]
  },
  {
   "cell_type": "code",
   "execution_count": 17,
   "metadata": {},
   "outputs": [],
   "source": [
    "#Reemplazar vacíos e inválidos por NaN, para tenerlos identificados\n",
    "rides['zip_code'].replace('^(?!^(?:0[1-9]|[1-4]\\d|5[0-2])\\d{3}$).*', np.nan, regex=True, inplace=True)"
   ]
  },
  {
   "cell_type": "code",
   "execution_count": 18,
   "metadata": {},
   "outputs": [
    {
     "data": {
      "text/plain": [
       "39"
      ]
     },
     "execution_count": 18,
     "metadata": {},
     "output_type": "execute_result"
    }
   ],
   "source": [
    "#Sólo hay 39 códigos postales aparentemente válidos (no necesariamente existen) con un único trayecto\n",
    "len(rides[-rides['zip_code'].duplicated(keep=False)])"
   ]
  },
  {
   "cell_type": "code",
   "execution_count": 19,
   "metadata": {
    "scrolled": true
   },
   "outputs": [
    {
     "data": {
      "text/plain": [
       "28005    13809\n",
       "28012    13679\n",
       "28004    11686\n",
       "28007    11486\n",
       "28045     8679\n",
       "28015     8348\n",
       "28009     8014\n",
       "28010     6359\n",
       "28003     5950\n",
       "28008     4431\n",
       "28006     4347\n",
       "28014     4137\n",
       "28001     3984\n",
       "28020     3773\n",
       "28028     3743\n",
       "28013     3556\n",
       "28002     2340\n",
       "28039     1920\n",
       "28016     1240\n",
       "28011     1066\n",
       "28030     1004\n",
       "28019      765\n",
       "28036      650\n",
       "28046      470\n",
       "28022      468\n",
       "28026      464\n",
       "28027      441\n",
       "28038      429\n",
       "28053      411\n",
       "28017      405\n",
       "         ...  \n",
       "48960        1\n",
       "26002        1\n",
       "32002        1\n",
       "33005        1\n",
       "28189        1\n",
       "28791        1\n",
       "29018        1\n",
       "24006        1\n",
       "22004        1\n",
       "41013        1\n",
       "31002        1\n",
       "45313        1\n",
       "28802        1\n",
       "40001        1\n",
       "07013        1\n",
       "08197        1\n",
       "02004        1\n",
       "28919        1\n",
       "08005        1\n",
       "28994        1\n",
       "22003        1\n",
       "28493        1\n",
       "24051        1\n",
       "28299        1\n",
       "36212        1\n",
       "47008        1\n",
       "15896        1\n",
       "50008        1\n",
       "06300        1\n",
       "28810        1\n",
       "Name: zip_code, Length: 395, dtype: int64"
      ]
     },
     "execution_count": 19,
     "metadata": {},
     "output_type": "execute_result"
    }
   ],
   "source": [
    "#Todos los códigos postales que quedan formalmente válidos\n",
    "rides['zip_code'].value_counts()"
   ]
  },
  {
   "cell_type": "markdown",
   "metadata": {},
   "source": [
    "Por si se hace algún estudio posterior, El Retiro se encuentra en el código postal **28009** y los códigos postales más cercanos son **28001** (zona Recoletos), **28004** (zona Chueca, Malasaña), **28014** (zona Cortes) y **28007** (zona Conde Casal)"
   ]
  },
  {
   "cell_type": "markdown",
   "metadata": {},
   "source": [
    "##### Valores nulos\n",
    "Únicamente los códigos postales que hemos marcado como NaN a propósito y los tracks GPS que faltan (se filtrarán más adelante)"
   ]
  },
  {
   "cell_type": "code",
   "execution_count": 20,
   "metadata": {},
   "outputs": [
    {
     "data": {
      "text/plain": [
       "_id                 False\n",
       "ageRange            False\n",
       "idplug_base         False\n",
       "idplug_station      False\n",
       "idunplug_base       False\n",
       "idunplug_station    False\n",
       "track                True\n",
       "travel_time         False\n",
       "unplug_hourTime     False\n",
       "user_day_code       False\n",
       "user_type           False\n",
       "zip_code             True\n",
       "dtype: bool"
      ]
     },
     "execution_count": 20,
     "metadata": {},
     "output_type": "execute_result"
    }
   ],
   "source": [
    "#No hay nulos\n",
    "rides.isnull().any()"
   ]
  },
  {
   "cell_type": "markdown",
   "metadata": {},
   "source": [
    "###### Track GPS"
   ]
  },
  {
   "cell_type": "markdown",
   "metadata": {},
   "source": [
    "El campo **track** expresa el recorrido realizado como una sucesión de puntos con sus coordenadas y otras propiedades (nombre de la calle inferido y velocidad en ese instante).<br>\n",
    "Está en **formato GeoJSON**, un <a href='https://tools.ietf.org/html/rfc7946'>estándar</a> utilizado para codificar variedad de datos geoespaciales, basado en JSON y que ha sido importado por Pandas como un diccionario. Está bien, podremos pasar del diccionario a un JSON con facilidad."
   ]
  },
  {
   "cell_type": "code",
   "execution_count": 21,
   "metadata": {},
   "outputs": [
    {
     "data": {
      "text/plain": [
       "dict"
      ]
     },
     "execution_count": 21,
     "metadata": {},
     "output_type": "execute_result"
    }
   ],
   "source": [
    "type(rides.iloc[0]['track'])"
   ]
  },
  {
   "cell_type": "code",
   "execution_count": 22,
   "metadata": {
    "scrolled": true
   },
   "outputs": [
    {
     "data": {
      "text/plain": [
       "'{\"type\": \"FeatureCollection\", \"features\": [{\"geometry\": {\"type\": \"Point\", \"coordinates\": [-3.68875399972222, 40.4074069997222]}, \"type\": \"Feature\", \"properties\": {\"var\": \"28014,ES,Madrid,Madrid,CALLE ALFONSO XII 11,Madrid\", \"speed\": 4.94, \"secondsfromstart\": 823}}, {\"geometry\": {\"type\": \"Point\", \"coordinates\": [-3.6874538, 40.4099817997222]}, \"type\": \"Feature\", \"properties\": {\"var\": \"28009,ES,Madrid,Madrid,PASEO FERNAN NUÑEZ,Madrid\", \"speed\": 7.97, \"secondsfromstart\": 763}}, {\"geometry\": {\"type\": \"Point\", \"coordinates\": [-3.682284, 40.4108969997222]}, \"type\": \"Feature\", \"properties\": {\"var\": \"28009,ES,Madrid,Madrid,PASEO FERNAN NUÑEZ,Madrid\", \"speed\": 5.52, \"secondsfromstart\": 703}}, {\"geometry\": {\"type\": \"Point\", \"coordinates\": [-3.6790506, 40.411498]}, \"type\": \"Feature\", \"properties\": {\"var\": \"28009,ES,Madrid,Madrid,PASEO FERNAN NUÑEZ,Madrid\", \"speed\": 6.83, \"secondsfromstart\": 643}}, {\"geometry\": {\"type\": \"Point\", \"coordinates\": [-3.67981399972222, 40.4150338]}, \"type\": \"Feature\", \"properties\": {\"var\": \"28009,ES,Madrid,Madrid,PASEO FERNAN NUÑEZ,Madrid\", \"speed\": 6.66, \"secondsfromstart\": 583}}, {\"geometry\": {\"type\": \"Point\", \"coordinates\": [-3.68072709972222, 40.4186941]}, \"type\": \"Feature\", \"properties\": {\"var\": \"28009,ES,Madrid,Madrid,PASEO FERNAN NUÑEZ,Madrid\", \"speed\": 6.55, \"secondsfromstart\": 522}}, {\"geometry\": {\"type\": \"Point\", \"coordinates\": [-3.679777, 40.4209190997222]}, \"type\": \"Feature\", \"properties\": {\"var\": \"28009,ES,Madrid,Madrid,AVDA MENENDEZ PELAYO 11,Madrid\", \"speed\": 6.27, \"secondsfromstart\": 462}}, {\"geometry\": {\"type\": \"Point\", \"coordinates\": [-3.6800085, 40.4248866]}, \"type\": \"Feature\", \"properties\": {\"var\": \"28001,ES,Madrid,Madrid,CALLE GOYA 65,Madrid\", \"speed\": 6.44, \"secondsfromstart\": 342}}, {\"geometry\": {\"type\": \"Point\", \"coordinates\": [-3.6800343, 40.4276945]}, \"type\": \"Feature\", \"properties\": {\"var\": \"28001,ES,Madrid,Madrid,CALLE PRINCIPE DE VERGARA,Madrid\", \"speed\": 0, \"secondsfromstart\": 282}}, {\"geometry\": {\"type\": \"Point\", \"coordinates\": [-3.67802659972222, 40.4301041]}, \"type\": \"Feature\", \"properties\": {\"var\": \"28006,ES,Madrid,Madrid,CALLE JOSE ORTEGA Y GASSET 43,Madrid\", \"speed\": 0, \"secondsfromstart\": 162}}]}'"
      ]
     },
     "execution_count": 22,
     "metadata": {},
     "output_type": "execute_result"
    }
   ],
   "source": [
    "#Paseo de uno de Huesca (es uno de los códigos postales con un sólo trayecto)\n",
    "json.dumps(rides[-rides['zip_code'].duplicated(keep=False)].iloc[0]['track'], ensure_ascii=False)"
   ]
  },
  {
   "cell_type": "markdown",
   "metadata": {},
   "source": [
    "##### Número de anclaje"
   ]
  },
  {
   "cell_type": "markdown",
   "metadata": {},
   "source": [
    "El número de anclaje en el que se coge y deposita la bicicleta (de entre los que hay en cada estación) es irrelevante para nuestros análisis, y nos deshacemos de él."
   ]
  },
  {
   "cell_type": "code",
   "execution_count": 23,
   "metadata": {},
   "outputs": [],
   "source": [
    "rides.drop(['idplug_base', 'idunplug_base'], axis=1, inplace=True)"
   ]
  },
  {
   "cell_type": "markdown",
   "metadata": {},
   "source": [
    "##### Categorías: Grupo de edad"
   ]
  },
  {
   "cell_type": "markdown",
   "metadata": {},
   "source": [
    "El \"grupo de edad\" y el \"tipo de usuario\" podemos considerarlos como categorías porque además tienen pocos valores distintos. Las estaciones también porque al final son _sólo_ 170 valores que se repiten."
   ]
  },
  {
   "cell_type": "code",
   "execution_count": 24,
   "metadata": {},
   "outputs": [],
   "source": [
    "rides[['ageRange','idplug_station','idunplug_station','user_type']]=\\\n",
    "rides[['ageRange','idplug_station','idunplug_station','user_type']].astype('category')"
   ]
  },
  {
   "cell_type": "code",
   "execution_count": 25,
   "metadata": {},
   "outputs": [
    {
     "data": {
      "text/plain": [
       "_id                                 object\n",
       "ageRange                          category\n",
       "idplug_station                    category\n",
       "idunplug_station                  category\n",
       "track                               object\n",
       "travel_time                          int64\n",
       "unplug_hourTime     datetime64[ns, +02:00]\n",
       "user_day_code                       object\n",
       "user_type                         category\n",
       "zip_code                            object\n",
       "dtype: object"
      ]
     },
     "execution_count": 25,
     "metadata": {},
     "output_type": "execute_result"
    }
   ],
   "source": [
    "rides.dtypes"
   ]
  },
  {
   "cell_type": "markdown",
   "metadata": {},
   "source": [
    "Grupos de edad:\n",
    " * **0** - **Edad desconocida**\n",
    " * **1** - **Hasta 16 años**\n",
    " * **2** - **Entre 17 y 18 años**\n",
    " * **3** - **Entre 19 y 26 años**\n",
    " * **4** - **Entre 27 y 40 años**\n",
    " * **5** - **Entre 41 y 65 años**\n",
    " * **6** - **Más de 65 años**\n",
    " \n",
    "Número de trayectos y tiempo de trayecto mediano por grupo:"
   ]
  },
  {
   "cell_type": "code",
   "execution_count": 26,
   "metadata": {
    "scrolled": true
   },
   "outputs": [
    {
     "data": {
      "text/html": [
       "<div>\n",
       "<style scoped>\n",
       "    .dataframe tbody tr th:only-of-type {\n",
       "        vertical-align: middle;\n",
       "    }\n",
       "\n",
       "    .dataframe tbody tr th {\n",
       "        vertical-align: top;\n",
       "    }\n",
       "\n",
       "    .dataframe thead th {\n",
       "        text-align: right;\n",
       "    }\n",
       "</style>\n",
       "<table border=\"1\" class=\"dataframe\">\n",
       "  <thead>\n",
       "    <tr style=\"text-align: right;\">\n",
       "      <th></th>\n",
       "      <th>count</th>\n",
       "      <th>median</th>\n",
       "    </tr>\n",
       "    <tr>\n",
       "      <th>ageRange</th>\n",
       "      <th></th>\n",
       "      <th></th>\n",
       "    </tr>\n",
       "  </thead>\n",
       "  <tbody>\n",
       "    <tr>\n",
       "      <th>0</th>\n",
       "      <td>117311</td>\n",
       "      <td>00:12:22</td>\n",
       "    </tr>\n",
       "    <tr>\n",
       "      <th>1</th>\n",
       "      <td>2850</td>\n",
       "      <td>00:26:44</td>\n",
       "    </tr>\n",
       "    <tr>\n",
       "      <th>2</th>\n",
       "      <td>2043</td>\n",
       "      <td>00:10:55</td>\n",
       "    </tr>\n",
       "    <tr>\n",
       "      <th>3</th>\n",
       "      <td>15525</td>\n",
       "      <td>00:10:41</td>\n",
       "    </tr>\n",
       "    <tr>\n",
       "      <th>4</th>\n",
       "      <td>85418</td>\n",
       "      <td>00:10:45</td>\n",
       "    </tr>\n",
       "    <tr>\n",
       "      <th>5</th>\n",
       "      <td>49859</td>\n",
       "      <td>00:11:59</td>\n",
       "    </tr>\n",
       "    <tr>\n",
       "      <th>6</th>\n",
       "      <td>1116</td>\n",
       "      <td>00:12:58</td>\n",
       "    </tr>\n",
       "  </tbody>\n",
       "</table>\n",
       "</div>"
      ],
      "text/plain": [
       "           count   median\n",
       "ageRange                 \n",
       "0         117311 00:12:22\n",
       "1           2850 00:26:44\n",
       "2           2043 00:10:55\n",
       "3          15525 00:10:41\n",
       "4          85418 00:10:45\n",
       "5          49859 00:11:59\n",
       "6           1116 00:12:58"
      ]
     },
     "execution_count": 26,
     "metadata": {},
     "output_type": "execute_result"
    }
   ],
   "source": [
    "ageStats=rides[['ageRange','travel_time']].groupby('ageRange').agg(['count','median'])\n",
    "ageStats.columns=ageStats.columns.droplevel()\n",
    "ageStats['median']=ageStats['median'].astype('timedelta64[s]')\n",
    "ageStats"
   ]
  },
  {
   "cell_type": "markdown",
   "metadata": {},
   "source": [
    "Casi el **43%** de los trayectos carecen de grupo de edad informado. No es un dato imprescindible, tampoco podremos explotarlo en estas condiciones pero podemos saber algo del resto de grupos.<br>Sobre las edades conocidas, está claro que más de la mitad (53%) de los que tienen este campo informado son usuarios de **entre 27 y 40 años**."
   ]
  },
  {
   "cell_type": "code",
   "execution_count": 27,
   "metadata": {},
   "outputs": [
    {
     "data": {
      "text/plain": [
       "ageRange\n",
       "0    0.427952\n",
       "1    0.010397\n",
       "2    0.007453\n",
       "3    0.056635\n",
       "4    0.311606\n",
       "5    0.181886\n",
       "6    0.004071\n",
       "Name: count, dtype: float64"
      ]
     },
     "execution_count": 27,
     "metadata": {},
     "output_type": "execute_result"
    }
   ],
   "source": [
    "ageStats['count'] / len(rides)"
   ]
  },
  {
   "cell_type": "markdown",
   "metadata": {},
   "source": [
    "En cuanto al tiempo medio de trayecto llama la atención el comportamiento de los **menores de 16 años**, cuya duración mediana es de **26 minutos**, más del doble que el resto de grupos de edad. <br>Muy probablemente se deba a que los menores hacen un uso de BiciMAD exclusivamente de ocio, si bien es un grupo de usuarios reducido pues realizan **apenas el 2%** de los trayectos."
   ]
  },
  {
   "cell_type": "markdown",
   "metadata": {},
   "source": [
    "##### Categorías: Tipo de usuario"
   ]
  },
  {
   "cell_type": "markdown",
   "metadata": {},
   "source": [
    "Tipos de usuario:\n",
    " * **1** - **Usuario abonado**\n",
    " * **2** - **Usuario ocasional**\n",
    " * **3** - **<font color='red'>Trabajador de BiciMAD</font>**\n",
    " * **4** - **Entre 27 y 40 años**\n",
    " * **5** - **Entre 41 y 65 años**\n",
    " * **6** - **Más de 65 años**\n",
    " \n",
    "Número de trayectos y tiempo de trayecto mediano por tipo:"
   ]
  },
  {
   "cell_type": "code",
   "execution_count": 28,
   "metadata": {
    "scrolled": true
   },
   "outputs": [
    {
     "data": {
      "text/html": [
       "<div>\n",
       "<style scoped>\n",
       "    .dataframe tbody tr th:only-of-type {\n",
       "        vertical-align: middle;\n",
       "    }\n",
       "\n",
       "    .dataframe tbody tr th {\n",
       "        vertical-align: top;\n",
       "    }\n",
       "\n",
       "    .dataframe thead th {\n",
       "        text-align: right;\n",
       "    }\n",
       "</style>\n",
       "<table border=\"1\" class=\"dataframe\">\n",
       "  <thead>\n",
       "    <tr style=\"text-align: right;\">\n",
       "      <th></th>\n",
       "      <th>count</th>\n",
       "      <th>median</th>\n",
       "    </tr>\n",
       "    <tr>\n",
       "      <th>user_type</th>\n",
       "      <th></th>\n",
       "      <th></th>\n",
       "    </tr>\n",
       "  </thead>\n",
       "  <tbody>\n",
       "    <tr>\n",
       "      <th>1</th>\n",
       "      <td>244090</td>\n",
       "      <td>00:11:02</td>\n",
       "    </tr>\n",
       "    <tr>\n",
       "      <th>2</th>\n",
       "      <td>7055</td>\n",
       "      <td>00:27:13</td>\n",
       "    </tr>\n",
       "    <tr>\n",
       "      <th>3</th>\n",
       "      <td>22977</td>\n",
       "      <td>00:33:09</td>\n",
       "    </tr>\n",
       "  </tbody>\n",
       "</table>\n",
       "</div>"
      ],
      "text/plain": [
       "            count   median\n",
       "user_type                 \n",
       "1          244090 00:11:02\n",
       "2            7055 00:27:13\n",
       "3           22977 00:33:09"
      ]
     },
     "execution_count": 28,
     "metadata": {},
     "output_type": "execute_result"
    }
   ],
   "source": [
    "typeStats=rides[['user_type','travel_time']].groupby('user_type').agg(['count','median'])\n",
    "typeStats.columns=typeStats.columns.droplevel()\n",
    "typeStats['median']=typeStats['median'].astype('timedelta64[s]')\n",
    "typeStats"
   ]
  },
  {
   "cell_type": "markdown",
   "metadata": {},
   "source": [
    "La amplísima mayoría de los trayectos son realizados por usuarios abonados, con pase anual, y parecen ser desplazamientos de corta duración. Los usuarios ocasionales parecen realizar trayectos mucho más prolongados, seguramente asociados a un uso recreativo del servicio. **Se profundizará en estos comportamientos más adelante, realizando clustering en base a estos parámetros**.<br><br>\n",
    "Finalmente está el grupo de trayectos \"técnicos\" que son realizados por el personal de BiciMAD: reabastecimiento de bicicletas, mantenimiento. Más adelante veremos que son trayectos largos pero a gran velocidad por la ciudad, seguramente en camionetas, y los apartaremos para centrarnos en los usos \"reales\" del servicio."
   ]
  },
  {
   "cell_type": "markdown",
   "metadata": {},
   "source": [
    "##### Tiempo de trayecto"
   ]
  },
  {
   "cell_type": "markdown",
   "metadata": {},
   "source": [
    "Se trata del tiempo total del trayecto, expresado en segundos."
   ]
  },
  {
   "cell_type": "code",
   "execution_count": 29,
   "metadata": {
    "scrolled": true
   },
   "outputs": [
    {
     "data": {
      "image/png": "[encoded data removed]",
      "text/plain": [
       "<Figure size 1152x360 with 1 Axes>"
      ]
     },
     "metadata": {},
     "output_type": "display_data"
    }
   ],
   "source": [
    "# /!\\ Wall time: 60s\n",
    "_, ax = plt.subplots(figsize=(16,5))\n",
    "ax.grid()\n",
    "ax.set_xscale('log')\n",
    "plt.xlabel('Tiempo en minutos (log)')\n",
    "plt.ylabel('Count')\n",
    "plt.title(r'Histograma del tiempo de trayecto')\n",
    "plt.hist(rides.travel_time/60, bins='auto')\n",
    "plt.show()"
   ]
  },
  {
   "cell_type": "code",
   "execution_count": 30,
   "metadata": {},
   "outputs": [
    {
     "data": {
      "text/plain": [
       "count    274122.000000\n",
       "mean       1172.197438\n",
       "std        4438.376339\n",
       "min           0.000000\n",
       "25%         458.000000\n",
       "50%         699.000000\n",
       "75%        1100.000000\n",
       "max      780734.000000\n",
       "Name: travel_time, dtype: float64"
      ]
     },
     "execution_count": 30,
     "metadata": {},
     "output_type": "execute_result"
    }
   ],
   "source": [
    "rides['travel_time'].describe()"
   ]
  },
  {
   "cell_type": "code",
   "execution_count": 31,
   "metadata": {},
   "outputs": [
    {
     "data": {
      "text/plain": [
       "3397"
      ]
     },
     "execution_count": 31,
     "metadata": {},
     "output_type": "execute_result"
    }
   ],
   "source": [
    "len(rides[rides['travel_time']<60])"
   ]
  },
  {
   "cell_type": "code",
   "execution_count": 32,
   "metadata": {},
   "outputs": [
    {
     "data": {
      "text/plain": [
       "user_type\n",
       "1      21\n",
       "2       0\n",
       "3    3376\n",
       "Name: _id, dtype: int64"
      ]
     },
     "execution_count": 32,
     "metadata": {},
     "output_type": "execute_result"
    }
   ],
   "source": [
    "rides[rides['travel_time']<60].groupby('user_type')['_id'].count()"
   ]
  },
  {
   "cell_type": "markdown",
   "metadata": {},
   "source": [
    "Hay más de 3000 trayectos con una duración de **menos de 1 minuto** y prácticamente todos son trayectos \"técnicos\" de BiciMAD. Los veremos y eliminaremos más adelante."
   ]
  },
  {
   "cell_type": "code",
   "execution_count": 33,
   "metadata": {},
   "outputs": [
    {
     "data": {
      "text/plain": [
       "1169"
      ]
     },
     "execution_count": 33,
     "metadata": {},
     "output_type": "execute_result"
    }
   ],
   "source": [
    "len(rides[rides['travel_time']>10800])"
   ]
  },
  {
   "cell_type": "markdown",
   "metadata": {},
   "source": [
    "Hay más de 1169 trayectos con una duración de **más de 3 horas**. Algunos podrían ser reales, aunque raros, otros no tienen ningún sentido. Los eliminaremos antes de hacer el clustering."
   ]
  },
  {
   "cell_type": "markdown",
   "metadata": {},
   "source": [
    "### Export de los datos\n",
    "Para continuar en la siguiente etapa..."
   ]
  },
  {
   "cell_type": "code",
   "execution_count": 34,
   "metadata": {},
   "outputs": [],
   "source": [
    "# /!\\ Wall time: 52s\n",
    "rides.to_json('data/Clean_201808_Usage_Bicimad.json', orient='records', date_format='iso', lines=True)"
   ]
  },
  {
   "cell_type": "code",
   "execution_count": null,
   "metadata": {},
   "outputs": [],
   "source": []
  }
 ],
 "metadata": {
  "kernelspec": {
   "display_name": "Python 3",
   "language": "python",
   "name": "python3"
  },
  "language_info": {
   "codemirror_mode": {
    "name": "ipython",
    "version": 3
   },
   "file_extension": ".py",
   "mimetype": "text/x-python",
   "name": "python",
   "nbconvert_exporter": "python",
   "pygments_lexer": "ipython3",
   "version": "3.6.5"
  }
 },
 "nbformat": 4,
 "nbformat_minor": 2
}
