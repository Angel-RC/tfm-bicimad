{
 "cells": [
  {
   "cell_type": "markdown",
   "metadata": {},
   "source": [
    "### Filtering by geographical criteria"
   ]
  },
  {
   "cell_type": "markdown",
   "metadata": {},
   "source": [
    "###### Limpieza de metadatos en el mes de julio\n",
    "El fichero mensual que contiene los datos de todos los trayectos del mes de julio de 2018 ha sido generado con multitud de espacios y saltos de línea que dificulta la legibilidad del fichero. Sólo ocurre este mes.\n",
    "Hago una limpieza previa para retirar estos símbolos."
   ]
  },
  {
   "cell_type": "code",
   "execution_count": null,
   "metadata": {},
   "outputs": [],
   "source": [
    "!cat 201807_Usage_Bicimad.json | tr -d '\\r\\n' | tr -s ' ' | sed 's/{ \"_id\"/\\n{ \"_id\"/g' | less"
   ]
  },
  {
   "cell_type": "markdown",
   "metadata": {},
   "source": [
    "###### Importación del fichero JSON"
   ]
  },
  {
   "cell_type": "code",
   "execution_count": null,
   "metadata": {},
   "outputs": [],
   "source": [
    "#!python -m pip install --upgrade pip\n",
    "#pip install iso8601\n",
    "\n",
    "#Habría que poner todos los install necesarios"
   ]
  },
  {
   "cell_type": "code",
   "execution_count": 1,
   "metadata": {},
   "outputs": [],
   "source": [
    "import numpy as np\n",
    "import pandas as pd\n",
    "#from geojson import Feature, FeatureCollection#, Point\n",
    "import geojson\n",
    "from shapely.geometry import Point, Polygon, LineString, MultiPoint, mapping\n",
    "#import shapely\n",
    "import geopandas as gpd\n",
    "#import geojsonio\n",
    "import iso8601"
   ]
  },
  {
   "cell_type": "markdown",
   "metadata": {},
   "source": [
    "Exploración del mes de agosto de 2018"
   ]
  },
  {
   "cell_type": "code",
   "execution_count": 25,
   "metadata": {},
   "outputs": [],
   "source": [
    "# /!\\ Wall time: 24.4 s\n",
    "rides = pd.read_json('data/201808_Usage_Bicimad.json',lines=True)"
   ]
  },
  {
   "cell_type": "code",
   "execution_count": 26,
   "metadata": {},
   "outputs": [],
   "source": [
    "#Limpieza del campo fecha/hora, contenida en un diccionario superfluo\n",
    "\n",
    "# /!\\ Wall time: 1min 2s\n",
    "rides['unplug_hourTime'] = rides['unplug_hourTime'].apply(pd.Series)['$date']"
   ]
  },
  {
   "cell_type": "code",
   "execution_count": 27,
   "metadata": {},
   "outputs": [],
   "source": [
    "#Parsing a formato fecha gestionando correctamente el huso horario\n",
    "rides['unplug_hourTime']=pd.to_datetime(rides['unplug_hourTime'].apply(iso8601.parse_date))"
   ]
  },
  {
   "cell_type": "code",
   "execution_count": null,
   "metadata": {},
   "outputs": [],
   "source": [
    "#Agrupación por día para estudiar cuántos trayectos hay y cuántos disponen de track GPS\n",
    "rides2=rides[['track','unplug_hourTime']].groupby(pd.DatetimeIndex(rides['unplug_hourTime']).normalize()).count()"
   ]
  },
  {
   "cell_type": "code",
   "execution_count": null,
   "metadata": {},
   "outputs": [],
   "source": [
    "rides2['con_track']=rides2['track']/rides2['unplug_hourTime']\n",
    "rides2"
   ]
  },
  {
   "cell_type": "code",
   "execution_count": 5,
   "metadata": {},
   "outputs": [],
   "source": [
    "import matplotlib.pyplot as plt \n",
    "%matplotlib inline"
   ]
  },
  {
   "cell_type": "code",
   "execution_count": null,
   "metadata": {
    "scrolled": true
   },
   "outputs": [],
   "source": [
    "N = len(rides2.index)\n",
    "withTrack = rides2['track'] #Rides with a GPS track\n",
    "noTrack = (rides2['unplug_hourTime']-rides2['track']) #Rides without a GPS trak\n",
    "ind = np.arange(N)  \n",
    "width = 0.5       \n",
    "\n",
    "plt.figure(figsize=(25,5))\n",
    "p1 = plt.bar(ind, withTrack, width)\n",
    "p2 = plt.bar(ind, noTrack, width, bottom=withTrack)\n",
    "\n",
    "plt.ylabel('Number of rides')\n",
    "plt.xlabel('August 2018')\n",
    "plt.title('Total rides per day with or without GPS track')\n",
    "plt.xticks(ind, rides2.index.day)\n",
    "plt.yticks(np.arange(0, 14000, 1000))\n",
    "plt.legend((p1[0], p2[0]), ('With GPS track', 'No track'))\n",
    "plt.figure(figsize=(80,100))\n",
    "\n",
    "plt.show()"
   ]
  },
  {
   "cell_type": "code",
   "execution_count": null,
   "metadata": {},
   "outputs": [],
   "source": [
    "#Exporto a csv \n",
    "rides2.to_csv('diarios_agosto.csv')"
   ]
  },
  {
   "cell_type": "code",
   "execution_count": 28,
   "metadata": {
    "scrolled": true
   },
   "outputs": [
    {
     "data": {
      "text/html": [
       "<div>\n",
       "<style scoped>\n",
       "    .dataframe tbody tr th:only-of-type {\n",
       "        vertical-align: middle;\n",
       "    }\n",
       "\n",
       "    .dataframe tbody tr th {\n",
       "        vertical-align: top;\n",
       "    }\n",
       "\n",
       "    .dataframe thead th {\n",
       "        text-align: right;\n",
       "    }\n",
       "</style>\n",
       "<table border=\"1\" class=\"dataframe\">\n",
       "  <thead>\n",
       "    <tr style=\"text-align: right;\">\n",
       "      <th></th>\n",
       "      <th>_id</th>\n",
       "      <th>ageRange</th>\n",
       "      <th>idplug_base</th>\n",
       "      <th>idplug_station</th>\n",
       "      <th>idunplug_base</th>\n",
       "      <th>idunplug_station</th>\n",
       "      <th>track</th>\n",
       "      <th>travel_time</th>\n",
       "      <th>unplug_hourTime</th>\n",
       "      <th>user_day_code</th>\n",
       "      <th>user_type</th>\n",
       "      <th>zip_code</th>\n",
       "    </tr>\n",
       "  </thead>\n",
       "  <tbody>\n",
       "    <tr>\n",
       "      <th>0</th>\n",
       "      <td>{'$oid': '5b6779012f384302541d6813'}</td>\n",
       "      <td>0</td>\n",
       "      <td>11</td>\n",
       "      <td>43</td>\n",
       "      <td>7</td>\n",
       "      <td>1</td>\n",
       "      <td>{'type': 'FeatureCollection', 'features': [{'g...</td>\n",
       "      <td>228</td>\n",
       "      <td>2018-08-01 01:00:00+02:00</td>\n",
       "      <td>6c30d6e283ea7a160379fa9adb20b93d2c06e16853ad08...</td>\n",
       "      <td>1</td>\n",
       "      <td></td>\n",
       "    </tr>\n",
       "    <tr>\n",
       "      <th>1</th>\n",
       "      <td>{'$oid': '5b6779012f384302541d6814'}</td>\n",
       "      <td>0</td>\n",
       "      <td>22</td>\n",
       "      <td>11</td>\n",
       "      <td>11</td>\n",
       "      <td>163</td>\n",
       "      <td>{'type': 'FeatureCollection', 'features': [{'g...</td>\n",
       "      <td>378</td>\n",
       "      <td>2018-08-01 01:00:00+02:00</td>\n",
       "      <td>88de7f2b4cb6d46c31cd610e3366f0a099b78f6edf1330...</td>\n",
       "      <td>1</td>\n",
       "      <td></td>\n",
       "    </tr>\n",
       "    <tr>\n",
       "      <th>2</th>\n",
       "      <td>{'$oid': '5b6779012f384302541d6819'}</td>\n",
       "      <td>0</td>\n",
       "      <td>14</td>\n",
       "      <td>80</td>\n",
       "      <td>2</td>\n",
       "      <td>46</td>\n",
       "      <td>{'type': 'FeatureCollection', 'features': [{'g...</td>\n",
       "      <td>380</td>\n",
       "      <td>2018-08-01 01:00:00+02:00</td>\n",
       "      <td>2b98916eebc487417337892097e5fd62157e5ff30f36ec...</td>\n",
       "      <td>1</td>\n",
       "      <td></td>\n",
       "    </tr>\n",
       "    <tr>\n",
       "      <th>3</th>\n",
       "      <td>{'$oid': '5b6779012f384302541d681a'}</td>\n",
       "      <td>4</td>\n",
       "      <td>17</td>\n",
       "      <td>135</td>\n",
       "      <td>20</td>\n",
       "      <td>52</td>\n",
       "      <td>NaN</td>\n",
       "      <td>452</td>\n",
       "      <td>2018-08-01 01:00:00+02:00</td>\n",
       "      <td>352aa705c3ca4146bf081ff6ef02c3dea49ec041bfa669...</td>\n",
       "      <td>1</td>\n",
       "      <td>28045</td>\n",
       "    </tr>\n",
       "    <tr>\n",
       "      <th>4</th>\n",
       "      <td>{'$oid': '5b6779012f384302541d681b'}</td>\n",
       "      <td>0</td>\n",
       "      <td>10</td>\n",
       "      <td>80</td>\n",
       "      <td>1</td>\n",
       "      <td>46</td>\n",
       "      <td>{'type': 'FeatureCollection', 'features': [{'g...</td>\n",
       "      <td>434</td>\n",
       "      <td>2018-08-01 01:00:00+02:00</td>\n",
       "      <td>536313f31d355a00044d8061428adc6c23b7e7b29d8ad0...</td>\n",
       "      <td>1</td>\n",
       "      <td></td>\n",
       "    </tr>\n",
       "  </tbody>\n",
       "</table>\n",
       "</div>"
      ],
      "text/plain": [
       "                                    _id  ageRange  idplug_base  \\\n",
       "0  {'$oid': '5b6779012f384302541d6813'}         0           11   \n",
       "1  {'$oid': '5b6779012f384302541d6814'}         0           22   \n",
       "2  {'$oid': '5b6779012f384302541d6819'}         0           14   \n",
       "3  {'$oid': '5b6779012f384302541d681a'}         4           17   \n",
       "4  {'$oid': '5b6779012f384302541d681b'}         0           10   \n",
       "\n",
       "   idplug_station  idunplug_base  idunplug_station  \\\n",
       "0              43              7                 1   \n",
       "1              11             11               163   \n",
       "2              80              2                46   \n",
       "3             135             20                52   \n",
       "4              80              1                46   \n",
       "\n",
       "                                               track  travel_time  \\\n",
       "0  {'type': 'FeatureCollection', 'features': [{'g...          228   \n",
       "1  {'type': 'FeatureCollection', 'features': [{'g...          378   \n",
       "2  {'type': 'FeatureCollection', 'features': [{'g...          380   \n",
       "3                                                NaN          452   \n",
       "4  {'type': 'FeatureCollection', 'features': [{'g...          434   \n",
       "\n",
       "            unplug_hourTime  \\\n",
       "0 2018-08-01 01:00:00+02:00   \n",
       "1 2018-08-01 01:00:00+02:00   \n",
       "2 2018-08-01 01:00:00+02:00   \n",
       "3 2018-08-01 01:00:00+02:00   \n",
       "4 2018-08-01 01:00:00+02:00   \n",
       "\n",
       "                                       user_day_code  user_type zip_code  \n",
       "0  6c30d6e283ea7a160379fa9adb20b93d2c06e16853ad08...          1           \n",
       "1  88de7f2b4cb6d46c31cd610e3366f0a099b78f6edf1330...          1           \n",
       "2  2b98916eebc487417337892097e5fd62157e5ff30f36ec...          1           \n",
       "3  352aa705c3ca4146bf081ff6ef02c3dea49ec041bfa669...          1    28045  \n",
       "4  536313f31d355a00044d8061428adc6c23b7e7b29d8ad0...          1           "
      ]
     },
     "execution_count": 28,
     "metadata": {},
     "output_type": "execute_result"
    }
   ],
   "source": [
    "rides.head()"
   ]
  },
  {
   "cell_type": "code",
   "execution_count": 29,
   "metadata": {},
   "outputs": [
    {
     "data": {
      "text/html": [
       "<div>\n",
       "<style scoped>\n",
       "    .dataframe tbody tr th:only-of-type {\n",
       "        vertical-align: middle;\n",
       "    }\n",
       "\n",
       "    .dataframe tbody tr th {\n",
       "        vertical-align: top;\n",
       "    }\n",
       "\n",
       "    .dataframe thead th {\n",
       "        text-align: right;\n",
       "    }\n",
       "</style>\n",
       "<table border=\"1\" class=\"dataframe\">\n",
       "  <thead>\n",
       "    <tr style=\"text-align: right;\">\n",
       "      <th></th>\n",
       "      <th>_id</th>\n",
       "      <th>ageRange</th>\n",
       "      <th>idplug_base</th>\n",
       "      <th>idplug_station</th>\n",
       "      <th>idunplug_base</th>\n",
       "      <th>idunplug_station</th>\n",
       "      <th>track</th>\n",
       "      <th>travel_time</th>\n",
       "      <th>unplug_hourTime</th>\n",
       "      <th>user_day_code</th>\n",
       "      <th>user_type</th>\n",
       "      <th>zip_code</th>\n",
       "    </tr>\n",
       "  </thead>\n",
       "  <tbody>\n",
       "    <tr>\n",
       "      <th>274117</th>\n",
       "      <td>{'$oid': '5b8c62cb2f38432c70d0921a'}</td>\n",
       "      <td>0</td>\n",
       "      <td>13</td>\n",
       "      <td>129</td>\n",
       "      <td>26</td>\n",
       "      <td>90</td>\n",
       "      <td>{'type': 'FeatureCollection', 'features': [{'g...</td>\n",
       "      <td>760</td>\n",
       "      <td>2018-08-29 00:00:00+02:00</td>\n",
       "      <td>5c0c78a679bb2161772e2ee2445692b7fe5a0c7655bac8...</td>\n",
       "      <td>1</td>\n",
       "      <td></td>\n",
       "    </tr>\n",
       "    <tr>\n",
       "      <th>274118</th>\n",
       "      <td>{'$oid': '5b8c62cb2f38432c70d0921b'}</td>\n",
       "      <td>6</td>\n",
       "      <td>9</td>\n",
       "      <td>140</td>\n",
       "      <td>27</td>\n",
       "      <td>95</td>\n",
       "      <td>{'type': 'FeatureCollection', 'features': [{'g...</td>\n",
       "      <td>738</td>\n",
       "      <td>2018-08-29 00:00:00+02:00</td>\n",
       "      <td>a02b82e667da1fb85b73a29a05ddceada1b5dab16172d6...</td>\n",
       "      <td>1</td>\n",
       "      <td>28039</td>\n",
       "    </tr>\n",
       "    <tr>\n",
       "      <th>274119</th>\n",
       "      <td>{'$oid': '5b8c62cb2f38432c70d0921c'}</td>\n",
       "      <td>4</td>\n",
       "      <td>30</td>\n",
       "      <td>95</td>\n",
       "      <td>22</td>\n",
       "      <td>172</td>\n",
       "      <td>{'type': 'FeatureCollection', 'features': [{'g...</td>\n",
       "      <td>868</td>\n",
       "      <td>2018-08-29 00:00:00+02:00</td>\n",
       "      <td>52d96c4f5f152b0bee0794f2511e9dd9bd377022af1fad...</td>\n",
       "      <td>1</td>\n",
       "      <td>28001</td>\n",
       "    </tr>\n",
       "    <tr>\n",
       "      <th>274120</th>\n",
       "      <td>{'$oid': '5b8c62cb2f38432c70d0921d'}</td>\n",
       "      <td>2</td>\n",
       "      <td>1</td>\n",
       "      <td>136</td>\n",
       "      <td>1</td>\n",
       "      <td>46</td>\n",
       "      <td>NaN</td>\n",
       "      <td>990</td>\n",
       "      <td>2018-08-29 00:00:00+02:00</td>\n",
       "      <td>adf9662785e341aa1aff172dcf1ee2c91f761a51497720...</td>\n",
       "      <td>1</td>\n",
       "      <td>28005</td>\n",
       "    </tr>\n",
       "    <tr>\n",
       "      <th>274121</th>\n",
       "      <td>{'$oid': '5b8c62cb2f38432c70d0921e'}</td>\n",
       "      <td>0</td>\n",
       "      <td>13</td>\n",
       "      <td>132</td>\n",
       "      <td>3</td>\n",
       "      <td>114</td>\n",
       "      <td>{'type': 'FeatureCollection', 'features': [{'g...</td>\n",
       "      <td>1005</td>\n",
       "      <td>2018-08-29 00:00:00+02:00</td>\n",
       "      <td>1c873fa1b5f2253566faa1d54299cf4af00b6dfb3ebd4e...</td>\n",
       "      <td>1</td>\n",
       "      <td></td>\n",
       "    </tr>\n",
       "  </tbody>\n",
       "</table>\n",
       "</div>"
      ],
      "text/plain": [
       "                                         _id  ageRange  idplug_base  \\\n",
       "274117  {'$oid': '5b8c62cb2f38432c70d0921a'}         0           13   \n",
       "274118  {'$oid': '5b8c62cb2f38432c70d0921b'}         6            9   \n",
       "274119  {'$oid': '5b8c62cb2f38432c70d0921c'}         4           30   \n",
       "274120  {'$oid': '5b8c62cb2f38432c70d0921d'}         2            1   \n",
       "274121  {'$oid': '5b8c62cb2f38432c70d0921e'}         0           13   \n",
       "\n",
       "        idplug_station  idunplug_base  idunplug_station  \\\n",
       "274117             129             26                90   \n",
       "274118             140             27                95   \n",
       "274119              95             22               172   \n",
       "274120             136              1                46   \n",
       "274121             132              3               114   \n",
       "\n",
       "                                                    track  travel_time  \\\n",
       "274117  {'type': 'FeatureCollection', 'features': [{'g...          760   \n",
       "274118  {'type': 'FeatureCollection', 'features': [{'g...          738   \n",
       "274119  {'type': 'FeatureCollection', 'features': [{'g...          868   \n",
       "274120                                                NaN          990   \n",
       "274121  {'type': 'FeatureCollection', 'features': [{'g...         1005   \n",
       "\n",
       "                 unplug_hourTime  \\\n",
       "274117 2018-08-29 00:00:00+02:00   \n",
       "274118 2018-08-29 00:00:00+02:00   \n",
       "274119 2018-08-29 00:00:00+02:00   \n",
       "274120 2018-08-29 00:00:00+02:00   \n",
       "274121 2018-08-29 00:00:00+02:00   \n",
       "\n",
       "                                            user_day_code  user_type zip_code  \n",
       "274117  5c0c78a679bb2161772e2ee2445692b7fe5a0c7655bac8...          1           \n",
       "274118  a02b82e667da1fb85b73a29a05ddceada1b5dab16172d6...          1    28039  \n",
       "274119  52d96c4f5f152b0bee0794f2511e9dd9bd377022af1fad...          1    28001  \n",
       "274120  adf9662785e341aa1aff172dcf1ee2c91f761a51497720...          1    28005  \n",
       "274121  1c873fa1b5f2253566faa1d54299cf4af00b6dfb3ebd4e...          1           "
      ]
     },
     "execution_count": 29,
     "metadata": {},
     "output_type": "execute_result"
    }
   ],
   "source": [
    "rides.tail()"
   ]
  },
  {
   "cell_type": "code",
   "execution_count": 30,
   "metadata": {},
   "outputs": [
    {
     "data": {
      "text/plain": [
       "_id                                 object\n",
       "ageRange                             int64\n",
       "idplug_base                          int64\n",
       "idplug_station                       int64\n",
       "idunplug_base                        int64\n",
       "idunplug_station                     int64\n",
       "track                               object\n",
       "travel_time                          int64\n",
       "unplug_hourTime     datetime64[ns, +02:00]\n",
       "user_day_code                       object\n",
       "user_type                            int64\n",
       "zip_code                            object\n",
       "dtype: object"
      ]
     },
     "execution_count": 30,
     "metadata": {},
     "output_type": "execute_result"
    }
   ],
   "source": [
    "#Hay tipos que aún se pueden mejorar\n",
    "rides.dtypes"
   ]
  },
  {
   "cell_type": "code",
   "execution_count": 118,
   "metadata": {},
   "outputs": [
    {
     "data": {
      "text/plain": [
       "274122"
      ]
     },
     "execution_count": 118,
     "metadata": {},
     "output_type": "execute_result"
    }
   ],
   "source": [
    "#Numero de trayectos del mes\n",
    "len(rides)"
   ]
  },
  {
   "cell_type": "code",
   "execution_count": 122,
   "metadata": {},
   "outputs": [
    {
     "data": {
      "text/plain": [
       "224536"
      ]
     },
     "execution_count": 122,
     "metadata": {},
     "output_type": "execute_result"
    }
   ],
   "source": [
    "#Número de trayectos con información GPS\n",
    "rides['track'].count()"
   ]
  },
  {
   "cell_type": "code",
   "execution_count": 33,
   "metadata": {},
   "outputs": [],
   "source": [
    "#Limpieza del campo _id, contenido en un diccionario superfluo\n",
    "\n",
    "# /!\\ Wall time: 1min 2s\n",
    "rides['_id'] = rides['_id'].apply(pd.Series)['$oid']"
   ]
  },
  {
   "cell_type": "code",
   "execution_count": 74,
   "metadata": {
    "scrolled": true
   },
   "outputs": [
    {
     "data": {
      "text/html": [
       "<div>\n",
       "<style scoped>\n",
       "    .dataframe tbody tr th:only-of-type {\n",
       "        vertical-align: middle;\n",
       "    }\n",
       "\n",
       "    .dataframe tbody tr th {\n",
       "        vertical-align: top;\n",
       "    }\n",
       "\n",
       "    .dataframe thead th {\n",
       "        text-align: right;\n",
       "    }\n",
       "</style>\n",
       "<table border=\"1\" class=\"dataframe\">\n",
       "  <thead>\n",
       "    <tr style=\"text-align: right;\">\n",
       "      <th></th>\n",
       "      <th>_id</th>\n",
       "      <th>ageRange</th>\n",
       "      <th>idplug_station</th>\n",
       "      <th>idunplug_station</th>\n",
       "      <th>track</th>\n",
       "      <th>travel_time</th>\n",
       "      <th>unplug_hourTime</th>\n",
       "      <th>user_day_code</th>\n",
       "      <th>user_type</th>\n",
       "      <th>zip_code</th>\n",
       "    </tr>\n",
       "  </thead>\n",
       "  <tbody>\n",
       "    <tr>\n",
       "      <th>0</th>\n",
       "      <td>5b6779012f384302541d6813</td>\n",
       "      <td>0</td>\n",
       "      <td>43</td>\n",
       "      <td>1</td>\n",
       "      <td>{'type': 'FeatureCollection', 'features': [{'g...</td>\n",
       "      <td>228</td>\n",
       "      <td>2018-08-01 01:00:00+02:00</td>\n",
       "      <td>6c30d6e283ea7a160379fa9adb20b93d2c06e16853ad08...</td>\n",
       "      <td>1</td>\n",
       "      <td>NaN</td>\n",
       "    </tr>\n",
       "    <tr>\n",
       "      <th>1</th>\n",
       "      <td>5b6779012f384302541d6814</td>\n",
       "      <td>0</td>\n",
       "      <td>11</td>\n",
       "      <td>163</td>\n",
       "      <td>{'type': 'FeatureCollection', 'features': [{'g...</td>\n",
       "      <td>378</td>\n",
       "      <td>2018-08-01 01:00:00+02:00</td>\n",
       "      <td>88de7f2b4cb6d46c31cd610e3366f0a099b78f6edf1330...</td>\n",
       "      <td>1</td>\n",
       "      <td>NaN</td>\n",
       "    </tr>\n",
       "    <tr>\n",
       "      <th>2</th>\n",
       "      <td>5b6779012f384302541d6819</td>\n",
       "      <td>0</td>\n",
       "      <td>80</td>\n",
       "      <td>46</td>\n",
       "      <td>{'type': 'FeatureCollection', 'features': [{'g...</td>\n",
       "      <td>380</td>\n",
       "      <td>2018-08-01 01:00:00+02:00</td>\n",
       "      <td>2b98916eebc487417337892097e5fd62157e5ff30f36ec...</td>\n",
       "      <td>1</td>\n",
       "      <td>NaN</td>\n",
       "    </tr>\n",
       "    <tr>\n",
       "      <th>3</th>\n",
       "      <td>5b6779012f384302541d681a</td>\n",
       "      <td>4</td>\n",
       "      <td>135</td>\n",
       "      <td>52</td>\n",
       "      <td>NaN</td>\n",
       "      <td>452</td>\n",
       "      <td>2018-08-01 01:00:00+02:00</td>\n",
       "      <td>352aa705c3ca4146bf081ff6ef02c3dea49ec041bfa669...</td>\n",
       "      <td>1</td>\n",
       "      <td>28045</td>\n",
       "    </tr>\n",
       "    <tr>\n",
       "      <th>4</th>\n",
       "      <td>5b6779012f384302541d681b</td>\n",
       "      <td>0</td>\n",
       "      <td>80</td>\n",
       "      <td>46</td>\n",
       "      <td>{'type': 'FeatureCollection', 'features': [{'g...</td>\n",
       "      <td>434</td>\n",
       "      <td>2018-08-01 01:00:00+02:00</td>\n",
       "      <td>536313f31d355a00044d8061428adc6c23b7e7b29d8ad0...</td>\n",
       "      <td>1</td>\n",
       "      <td>NaN</td>\n",
       "    </tr>\n",
       "  </tbody>\n",
       "</table>\n",
       "</div>"
      ],
      "text/plain": [
       "                        _id ageRange idplug_station idunplug_station  \\\n",
       "0  5b6779012f384302541d6813        0             43                1   \n",
       "1  5b6779012f384302541d6814        0             11              163   \n",
       "2  5b6779012f384302541d6819        0             80               46   \n",
       "3  5b6779012f384302541d681a        4            135               52   \n",
       "4  5b6779012f384302541d681b        0             80               46   \n",
       "\n",
       "                                               track  travel_time  \\\n",
       "0  {'type': 'FeatureCollection', 'features': [{'g...          228   \n",
       "1  {'type': 'FeatureCollection', 'features': [{'g...          378   \n",
       "2  {'type': 'FeatureCollection', 'features': [{'g...          380   \n",
       "3                                                NaN          452   \n",
       "4  {'type': 'FeatureCollection', 'features': [{'g...          434   \n",
       "\n",
       "            unplug_hourTime  \\\n",
       "0 2018-08-01 01:00:00+02:00   \n",
       "1 2018-08-01 01:00:00+02:00   \n",
       "2 2018-08-01 01:00:00+02:00   \n",
       "3 2018-08-01 01:00:00+02:00   \n",
       "4 2018-08-01 01:00:00+02:00   \n",
       "\n",
       "                                       user_day_code user_type zip_code  \n",
       "0  6c30d6e283ea7a160379fa9adb20b93d2c06e16853ad08...         1      NaN  \n",
       "1  88de7f2b4cb6d46c31cd610e3366f0a099b78f6edf1330...         1      NaN  \n",
       "2  2b98916eebc487417337892097e5fd62157e5ff30f36ec...         1      NaN  \n",
       "3  352aa705c3ca4146bf081ff6ef02c3dea49ec041bfa669...         1    28045  \n",
       "4  536313f31d355a00044d8061428adc6c23b7e7b29d8ad0...         1      NaN  "
      ]
     },
     "execution_count": 74,
     "metadata": {},
     "output_type": "execute_result"
    }
   ],
   "source": [
    "rides.head()"
   ]
  },
  {
   "cell_type": "markdown",
   "metadata": {},
   "source": [
    "#### Gestion del código postal"
   ]
  },
  {
   "cell_type": "code",
   "execution_count": 35,
   "metadata": {},
   "outputs": [],
   "source": [
    "#Trim de los espacios\n",
    "rides['zip_code']=rides.zip_code.str.strip()"
   ]
  },
  {
   "cell_type": "code",
   "execution_count": 123,
   "metadata": {
    "scrolled": true
   },
   "outputs": [
    {
     "ename": "TypeError",
     "evalue": "Unary negative expects numeric dtype, not object",
     "output_type": "error",
     "traceback": [
      "\u001b[1;31m---------------------------------------------------------------------------\u001b[0m",
      "\u001b[1;31mTypeError\u001b[0m                                 Traceback (most recent call last)",
      "\u001b[1;32m<ipython-input-123-4a6ca223457c>\u001b[0m in \u001b[0;36m<module>\u001b[1;34m()\u001b[0m\n\u001b[0;32m      1\u001b[0m \u001b[1;31m#Validación de códigos postales españoles (cinco dígitos entre 01000 y 52999). Estos son los vacíos o inválidos.\u001b[0m\u001b[1;33m\u001b[0m\u001b[1;33m\u001b[0m\u001b[0m\n\u001b[1;32m----> 2\u001b[1;33m \u001b[0mridesjson\u001b[0m\u001b[1;33m[\u001b[0m\u001b[1;33m-\u001b[0m\u001b[0mridesjson\u001b[0m\u001b[1;33m.\u001b[0m\u001b[0mzip_code\u001b[0m\u001b[1;33m.\u001b[0m\u001b[0mstr\u001b[0m\u001b[1;33m.\u001b[0m\u001b[0mcontains\u001b[0m\u001b[1;33m(\u001b[0m\u001b[1;34m'^(?:0[1-9]|[1-4]\\d|5[0-2])\\d{3}$'\u001b[0m\u001b[1;33m)\u001b[0m\u001b[1;33m]\u001b[0m\u001b[1;33m[\u001b[0m\u001b[1;34m'zip_code'\u001b[0m\u001b[1;33m]\u001b[0m\u001b[1;33m.\u001b[0m\u001b[0mvalue_counts\u001b[0m\u001b[1;33m(\u001b[0m\u001b[1;33m)\u001b[0m\u001b[1;33m\u001b[0m\u001b[0m\n\u001b[0m",
      "\u001b[1;32m~\\Anaconda3\\lib\\site-packages\\pandas\\core\\generic.py\u001b[0m in \u001b[0;36m__neg__\u001b[1;34m(self)\u001b[0m\n\u001b[0;32m   1122\u001b[0m         \u001b[1;32melse\u001b[0m\u001b[1;33m:\u001b[0m\u001b[1;33m\u001b[0m\u001b[0m\n\u001b[0;32m   1123\u001b[0m             raise TypeError(\"Unary negative expects numeric dtype, not {}\"\n\u001b[1;32m-> 1124\u001b[1;33m                             .format(values.dtype))\n\u001b[0m\u001b[0;32m   1125\u001b[0m         \u001b[1;32mreturn\u001b[0m \u001b[0mself\u001b[0m\u001b[1;33m.\u001b[0m\u001b[0m__array_wrap__\u001b[0m\u001b[1;33m(\u001b[0m\u001b[0marr\u001b[0m\u001b[1;33m)\u001b[0m\u001b[1;33m\u001b[0m\u001b[0m\n\u001b[0;32m   1126\u001b[0m \u001b[1;33m\u001b[0m\u001b[0m\n",
      "\u001b[1;31mTypeError\u001b[0m: Unary negative expects numeric dtype, not object"
     ]
    }
   ],
   "source": [
    "#Validación de códigos postales españoles (cinco dígitos entre 01000 y 52999). Estos son los vacíos o inválidos.\n",
    "rides[-rides.zip_code.str.contains('^(?:0[1-9]|[1-4]\\d|5[0-2])\\d{3}$')]['zip_code'].value_counts()"
   ]
  },
  {
   "cell_type": "code",
   "execution_count": 40,
   "metadata": {},
   "outputs": [],
   "source": [
    "#Reemplazar vacíos e inválidos por NaN, para tenerlos identificados\n",
    "rides['zip_code'].replace('^(?!^(?:0[1-9]|[1-4]\\d|5[0-2])\\d{3}$).*', np.nan, regex=True, inplace=True)"
   ]
  },
  {
   "cell_type": "code",
   "execution_count": 124,
   "metadata": {},
   "outputs": [
    {
     "data": {
      "text/plain": [
       "39"
      ]
     },
     "execution_count": 124,
     "metadata": {},
     "output_type": "execute_result"
    }
   ],
   "source": [
    "#Sólo hay 39 códigos postales aparentemente válidos (no necesariamente existen) con un único trayecto\n",
    "len(rides[-rides['zip_code'].duplicated(keep=False)])"
   ]
  },
  {
   "cell_type": "code",
   "execution_count": 125,
   "metadata": {
    "scrolled": true
   },
   "outputs": [
    {
     "data": {
      "text/plain": [
       "28005    13809\n",
       "28012    13679\n",
       "28004    11686\n",
       "28007    11486\n",
       "28045     8679\n",
       "28015     8348\n",
       "28009     8014\n",
       "28010     6359\n",
       "28003     5950\n",
       "28008     4431\n",
       "28006     4347\n",
       "28014     4137\n",
       "28001     3984\n",
       "28020     3773\n",
       "28028     3743\n",
       "28013     3556\n",
       "28002     2340\n",
       "28039     1920\n",
       "28016     1240\n",
       "28011     1066\n",
       "28030     1004\n",
       "28019      765\n",
       "28036      650\n",
       "28046      470\n",
       "28022      468\n",
       "28026      464\n",
       "28027      441\n",
       "28038      429\n",
       "28053      411\n",
       "28017      405\n",
       "         ...  \n",
       "15896        1\n",
       "24006        1\n",
       "24051        1\n",
       "41013        1\n",
       "28189        1\n",
       "08197        1\n",
       "28299        1\n",
       "03360        1\n",
       "08005        1\n",
       "36212        1\n",
       "28919        1\n",
       "08021        1\n",
       "28102        1\n",
       "02004        1\n",
       "40001        1\n",
       "28994        1\n",
       "47008        1\n",
       "50008        1\n",
       "06300        1\n",
       "28986        1\n",
       "26002        1\n",
       "33005        1\n",
       "28493        1\n",
       "07013        1\n",
       "22003        1\n",
       "31002        1\n",
       "41003        1\n",
       "48014        1\n",
       "45313        1\n",
       "28802        1\n",
       "Name: zip_code, Length: 395, dtype: int64"
      ]
     },
     "execution_count": 125,
     "metadata": {},
     "output_type": "execute_result"
    }
   ],
   "source": [
    "#Todos los códigos postales que quedan formalmente válidos\n",
    "rides['zip_code'].value_counts()"
   ]
  },
  {
   "cell_type": "markdown",
   "metadata": {},
   "source": [
    "El Retiro se encuentra en el código postal **28009** y los códigos postales más cercanos son **28001** (zona Recoletos), **28004** (zona Chueca, Malasaña), **28014** (zona Cortes) y **28007** (zona Conde Casal)"
   ]
  },
  {
   "cell_type": "code",
   "execution_count": 43,
   "metadata": {},
   "outputs": [],
   "source": [
    "import json"
   ]
  },
  {
   "cell_type": "code",
   "execution_count": 44,
   "metadata": {},
   "outputs": [
    {
     "data": {
      "text/plain": [
       "dict"
      ]
     },
     "execution_count": 44,
     "metadata": {},
     "output_type": "execute_result"
    }
   ],
   "source": [
    "type(rides[-rides['zip_code'].duplicated(keep=False)].iloc[0]['track'])"
   ]
  },
  {
   "cell_type": "code",
   "execution_count": 132,
   "metadata": {
    "scrolled": true
   },
   "outputs": [
    {
     "data": {
      "text/plain": [
       "'{\"type\": \"FeatureCollection\", \"features\": [{\"geometry\": {\"type\": \"Point\", \"coordinates\": [-3.68875399972222, 40.4074069997222]}, \"type\": \"Feature\", \"properties\": {\"var\": \"28014,ES,Madrid,Madrid,CALLE ALFONSO XII 11,Madrid\", \"speed\": 4.94, \"secondsfromstart\": 823}}, {\"geometry\": {\"type\": \"Point\", \"coordinates\": [-3.6874538, 40.4099817997222]}, \"type\": \"Feature\", \"properties\": {\"var\": \"28009,ES,Madrid,Madrid,PASEO FERNAN NUÑEZ,Madrid\", \"speed\": 7.97, \"secondsfromstart\": 763}}, {\"geometry\": {\"type\": \"Point\", \"coordinates\": [-3.682284, 40.4108969997222]}, \"type\": \"Feature\", \"properties\": {\"var\": \"28009,ES,Madrid,Madrid,PASEO FERNAN NUÑEZ,Madrid\", \"speed\": 5.52, \"secondsfromstart\": 703}}, {\"geometry\": {\"type\": \"Point\", \"coordinates\": [-3.6790506, 40.411498]}, \"type\": \"Feature\", \"properties\": {\"var\": \"28009,ES,Madrid,Madrid,PASEO FERNAN NUÑEZ,Madrid\", \"speed\": 6.83, \"secondsfromstart\": 643}}, {\"geometry\": {\"type\": \"Point\", \"coordinates\": [-3.67981399972222, 40.4150338]}, \"type\": \"Feature\", \"properties\": {\"var\": \"28009,ES,Madrid,Madrid,PASEO FERNAN NUÑEZ,Madrid\", \"speed\": 6.66, \"secondsfromstart\": 583}}, {\"geometry\": {\"type\": \"Point\", \"coordinates\": [-3.68072709972222, 40.4186941]}, \"type\": \"Feature\", \"properties\": {\"var\": \"28009,ES,Madrid,Madrid,PASEO FERNAN NUÑEZ,Madrid\", \"speed\": 6.55, \"secondsfromstart\": 522}}, {\"geometry\": {\"type\": \"Point\", \"coordinates\": [-3.679777, 40.4209190997222]}, \"type\": \"Feature\", \"properties\": {\"var\": \"28009,ES,Madrid,Madrid,AVDA MENENDEZ PELAYO 11,Madrid\", \"speed\": 6.27, \"secondsfromstart\": 462}}, {\"geometry\": {\"type\": \"Point\", \"coordinates\": [-3.6800085, 40.4248866]}, \"type\": \"Feature\", \"properties\": {\"var\": \"28001,ES,Madrid,Madrid,CALLE GOYA 65,Madrid\", \"speed\": 6.44, \"secondsfromstart\": 342}}, {\"geometry\": {\"type\": \"Point\", \"coordinates\": [-3.6800343, 40.4276945]}, \"type\": \"Feature\", \"properties\": {\"var\": \"28001,ES,Madrid,Madrid,CALLE PRINCIPE DE VERGARA,Madrid\", \"speed\": 0, \"secondsfromstart\": 282}}, {\"geometry\": {\"type\": \"Point\", \"coordinates\": [-3.67802659972222, 40.4301041]}, \"type\": \"Feature\", \"properties\": {\"var\": \"28006,ES,Madrid,Madrid,CALLE JOSE ORTEGA Y GASSET 43,Madrid\", \"speed\": 0, \"secondsfromstart\": 162}}]}'"
      ]
     },
     "execution_count": 132,
     "metadata": {},
     "output_type": "execute_result"
    }
   ],
   "source": [
    "#Paseo de uno de Huesca\n",
    "json.dumps(rides[-rides['zip_code'].duplicated(keep=False)].iloc[0]['track'], ensure_ascii=False)"
   ]
  },
  {
   "cell_type": "code",
   "execution_count": 131,
   "metadata": {},
   "outputs": [
    {
     "data": {
      "text/plain": [
       "'{\"type\": \"FeatureCollection\", \"features\": [{\"geometry\": {\"type\": \"Point\", \"coordinates\": [-3.6695565, 40.4163835]}, \"type\": \"Feature\", \"properties\": {\"var\": \"28007,ES,Madrid,Madrid,CALLE DOCTOR ESQUERDO,Madrid\", \"speed\": 2, \"secondsfromstart\": 1173}}, {\"geometry\": {\"type\": \"Point\", \"coordinates\": [-3.6714266, 40.4166440997222]}, \"type\": \"Feature\", \"properties\": {\"var\": \"28009,ES,Madrid,Madrid,CALLE ALCALDE SAINZ DE BARANDA 54,Madrid\", \"speed\": 0, \"secondsfromstart\": 1113}}, {\"geometry\": {\"type\": \"Point\", \"coordinates\": [-3.67159799972222, 40.416508]}, \"type\": \"Feature\", \"properties\": {\"var\": \"28009,ES,Madrid,Madrid,CALLE ANTONIO ARIAS 15,Madrid\", \"speed\": 0, \"secondsfromstart\": 1053}}, {\"geometry\": {\"type\": \"Point\", \"coordinates\": [-3.6733511, 40.4161173]}, \"type\": \"Feature\", \"properties\": {\"var\": \"28009,ES,Madrid,Madrid,CALLE DOCE DE OCTUBRE 30,Madrid\", \"speed\": 6.52, \"secondsfromstart\": 993}}, {\"geometry\": {\"type\": \"Point\", \"coordinates\": [-3.6773566, 40.4156271]}, \"type\": \"Feature\", \"properties\": {\"var\": \"28009,ES,Madrid,Madrid,CALLE DOCE DE OCTUBRE 3,Madrid\", \"speed\": 6.52, \"secondsfromstart\": 934}}, {\"geometry\": {\"type\": \"Point\", \"coordinates\": [-3.67916659972222, 40.417065]}, \"type\": \"Feature\", \"properties\": {\"var\": \"28009,ES,Madrid,Madrid,AVDA MENENDEZ PELAYO 45,Madrid\", \"speed\": 2.61, \"secondsfromstart\": 874}}, {\"geometry\": {\"type\": \"Point\", \"coordinates\": [-3.681315, 40.4164615997222]}, \"type\": \"Feature\", \"properties\": {\"var\": \"28009,ES,Madrid,Madrid,PASEO VENEZUELA,Madrid\", \"speed\": 3.55, \"secondsfromstart\": 814}}, {\"geometry\": {\"type\": \"Point\", \"coordinates\": [-3.6836888, 40.4158848]}, \"type\": \"Feature\", \"properties\": {\"var\": \"28009,ES,Madrid,Madrid,PASEO VENEZUELA,Madrid\", \"speed\": 4.11, \"secondsfromstart\": 754}}, {\"geometry\": {\"type\": \"Point\", \"coordinates\": [-3.68509779972222, 40.4178088]}, \"type\": \"Feature\", \"properties\": {\"var\": \"28009,ES,Madrid,Madrid,PASEO REPUBLICA DE CUBA,Madrid\", \"speed\": 3.52, \"secondsfromstart\": 694}}, {\"geometry\": {\"type\": \"Point\", \"coordinates\": [-3.6874476, 40.4195731]}, \"type\": \"Feature\", \"properties\": {\"var\": \"28009,ES,Madrid,Madrid,AVDA MEJICO,Madrid\", \"speed\": 3.33, \"secondsfromstart\": 634}}, {\"geometry\": {\"type\": \"Point\", \"coordinates\": [-3.6883416, 40.4194249997222]}, \"type\": \"Feature\", \"properties\": {\"var\": \"28001,ES,Madrid,Madrid,CALLE ALFONSO XII,Madrid\", \"speed\": 0.44, \"secondsfromstart\": 575}}, {\"geometry\": {\"type\": \"Point\", \"coordinates\": [-3.68863999972222, 40.4194955997222]}, \"type\": \"Feature\", \"properties\": {\"var\": \"28001,ES,Madrid,Madrid,CALLE ALFONSO XII,Madrid\", \"speed\": 1.02, \"secondsfromstart\": 515}}, {\"geometry\": {\"type\": \"Point\", \"coordinates\": [-3.6887205, 40.4206136]}, \"type\": \"Feature\", \"properties\": {\"var\": \"28001,ES,Madrid,Madrid,CALLE SERRANO 5,Madrid\", \"speed\": 0, \"secondsfromstart\": 455}}, {\"geometry\": {\"type\": \"Point\", \"coordinates\": [-3.68890459972222, 40.4213359997222]}, \"type\": \"Feature\", \"properties\": {\"var\": \"28001,ES,Madrid,Madrid,CALLE RECOLETOS 22,Madrid\", \"speed\": 1.44, \"secondsfromstart\": 395}}, {\"geometry\": {\"type\": \"Point\", \"coordinates\": [-3.6918517997222198, 40.4224292997222]}, \"type\": \"Feature\", \"properties\": {\"var\": \"28004,ES,Madrid,Madrid,CALLE ALMIRANTE,Madrid\", \"speed\": 0.8300000000000001, \"secondsfromstart\": 336}}, {\"geometry\": {\"type\": \"Point\", \"coordinates\": [-3.6923938, 40.4224300997222]}, \"type\": \"Feature\", \"properties\": {\"var\": \"28004,ES,Madrid,Madrid,CALLE ALMIRANTE 27,Madrid\", \"speed\": 0.9400000000000001, \"secondsfromstart\": 276}}, {\"geometry\": {\"type\": \"Point\", \"coordinates\": [-3.69502849972222, 40.4222559997222]}, \"type\": \"Feature\", \"properties\": {\"var\": \"28004,ES,Madrid,Madrid,CALLE ALMIRANTE 8,Madrid\", \"speed\": 3.69, \"secondsfromstart\": 216}}, {\"geometry\": {\"type\": \"Point\", \"coordinates\": [-3.6961995, 40.4224205]}, \"type\": \"Feature\", \"properties\": {\"var\": \"28004,ES,Madrid,Madrid,CALLE GRAVINA 22,Madrid\", \"speed\": 3.22, \"secondsfromstart\": 156}}]}'"
      ]
     },
     "execution_count": 131,
     "metadata": {},
     "output_type": "execute_result"
    }
   ],
   "source": [
    "#Paseo de un turista de Castrillón\n",
    "json.dumps(rides[rides['zip_code'].replace(np.nan,'').str.contains('33450')].iloc[1]['track'], ensure_ascii=False)"
   ]
  },
  {
   "cell_type": "code",
   "execution_count": 134,
   "metadata": {},
   "outputs": [
    {
     "data": {
      "text/plain": [
       "track              224536\n",
       "unplug_hourTime    274122\n",
       "dtype: int64"
      ]
     },
     "execution_count": 134,
     "metadata": {},
     "output_type": "execute_result"
    }
   ],
   "source": [
    "rides[['track','unplug_hourTime']].count()"
   ]
  },
  {
   "cell_type": "markdown",
   "metadata": {},
   "source": [
    "El número de enganche en el que se coge y deposita la bici es irrelevante para nuestro análisis, y nos deshacemos de él.\n",
    "Tampoco nos aporta nada el id unívoco pero lo dejo de momento, por si acaso"
   ]
  },
  {
   "cell_type": "code",
   "execution_count": 48,
   "metadata": {},
   "outputs": [],
   "source": [
    "rides.drop(['idplug_base', 'idunplug_base'], axis=1, inplace=True)"
   ]
  },
  {
   "cell_type": "markdown",
   "metadata": {},
   "source": [
    "Primeras categorías identificadas"
   ]
  },
  {
   "cell_type": "markdown",
   "metadata": {},
   "source": [
    "El \"grupo de edad\" y el \"tipo de usuario\" podemos considerarlos como categorías porque además tienen pocos valores distintos. Las estaciones también porque al final son _sólo_ 170 valores que se repiten."
   ]
  },
  {
   "cell_type": "code",
   "execution_count": 49,
   "metadata": {},
   "outputs": [],
   "source": [
    "rides[['ageRange','idplug_station','idunplug_station','user_type']]=\\\n",
    "rides[['ageRange','idplug_station','idunplug_station','user_type']].astype('category')"
   ]
  },
  {
   "cell_type": "code",
   "execution_count": 137,
   "metadata": {},
   "outputs": [
    {
     "data": {
      "text/plain": [
       "_id                                 object\n",
       "ageRange                          category\n",
       "idplug_station                    category\n",
       "idunplug_station                  category\n",
       "track                               object\n",
       "travel_time                          int64\n",
       "unplug_hourTime     datetime64[ns, +02:00]\n",
       "user_day_code                       object\n",
       "user_type                         category\n",
       "zip_code                            object\n",
       "dtype: object"
      ]
     },
     "execution_count": 137,
     "metadata": {},
     "output_type": "execute_result"
    }
   ],
   "source": [
    "rides.dtypes"
   ]
  },
  {
   "cell_type": "code",
   "execution_count": 76,
   "metadata": {},
   "outputs": [
    {
     "name": "stdout",
     "output_type": "stream",
     "text": [
      "Wall time: 52.6 s\n"
     ]
    }
   ],
   "source": [
    "# /!\\ Wall time: 52s\n",
    "rides.to_json('data/cleanAugust.json', orient='records', date_format='iso', lines=True)"
   ]
  },
  {
   "cell_type": "markdown",
   "metadata": {},
   "source": [
    "***\n",
    "**Desde aquí unas pruebas de import del json generado con las adaptaciones necesarias**"
   ]
  },
  {
   "cell_type": "code",
   "execution_count": 77,
   "metadata": {},
   "outputs": [],
   "source": [
    "# /!\\ Wall time: 2min 22s\n",
    "ridesjson = pd.read_json('data/cleanAugust.json', lines=True, dtype={'zip_code':object}, convert_dates=['unplug_hourTime'])"
   ]
  },
  {
   "cell_type": "code",
   "execution_count": 112,
   "metadata": {
    "scrolled": true
   },
   "outputs": [
    {
     "data": {
      "text/plain": [
       "_id                              object\n",
       "ageRange                       category\n",
       "idplug_station                 category\n",
       "idunplug_station               category\n",
       "track                            object\n",
       "travel_time                       int64\n",
       "unplug_hourTime     datetime64[ns, CET]\n",
       "user_day_code                    object\n",
       "user_type                      category\n",
       "zip_code                         object\n",
       "dtype: object"
      ]
     },
     "execution_count": 112,
     "metadata": {},
     "output_type": "execute_result"
    }
   ],
   "source": [
    "ridesjson.dtypes"
   ]
  },
  {
   "cell_type": "code",
   "execution_count": 117,
   "metadata": {},
   "outputs": [
    {
     "data": {
      "text/html": [
       "<div>\n",
       "<style scoped>\n",
       "    .dataframe tbody tr th:only-of-type {\n",
       "        vertical-align: middle;\n",
       "    }\n",
       "\n",
       "    .dataframe tbody tr th {\n",
       "        vertical-align: top;\n",
       "    }\n",
       "\n",
       "    .dataframe thead th {\n",
       "        text-align: right;\n",
       "    }\n",
       "</style>\n",
       "<table border=\"1\" class=\"dataframe\">\n",
       "  <thead>\n",
       "    <tr style=\"text-align: right;\">\n",
       "      <th></th>\n",
       "      <th>_id</th>\n",
       "      <th>ageRange</th>\n",
       "      <th>idplug_station</th>\n",
       "      <th>idunplug_station</th>\n",
       "      <th>track</th>\n",
       "      <th>travel_time</th>\n",
       "      <th>unplug_hourTime</th>\n",
       "      <th>user_day_code</th>\n",
       "      <th>user_type</th>\n",
       "      <th>zip_code</th>\n",
       "    </tr>\n",
       "  </thead>\n",
       "  <tbody>\n",
       "    <tr>\n",
       "      <th>0</th>\n",
       "      <td>5b6779012f384302541d6813</td>\n",
       "      <td>0</td>\n",
       "      <td>43</td>\n",
       "      <td>1</td>\n",
       "      <td>{'type': 'FeatureCollection', 'features': [{'g...</td>\n",
       "      <td>228</td>\n",
       "      <td>2018-08-01 01:00:00+02:00</td>\n",
       "      <td>6c30d6e283ea7a160379fa9adb20b93d2c06e16853ad08...</td>\n",
       "      <td>1</td>\n",
       "      <td>None</td>\n",
       "    </tr>\n",
       "    <tr>\n",
       "      <th>1</th>\n",
       "      <td>5b6779012f384302541d6814</td>\n",
       "      <td>0</td>\n",
       "      <td>11</td>\n",
       "      <td>163</td>\n",
       "      <td>{'type': 'FeatureCollection', 'features': [{'g...</td>\n",
       "      <td>378</td>\n",
       "      <td>2018-08-01 01:00:00+02:00</td>\n",
       "      <td>88de7f2b4cb6d46c31cd610e3366f0a099b78f6edf1330...</td>\n",
       "      <td>1</td>\n",
       "      <td>None</td>\n",
       "    </tr>\n",
       "    <tr>\n",
       "      <th>2</th>\n",
       "      <td>5b6779012f384302541d6819</td>\n",
       "      <td>0</td>\n",
       "      <td>80</td>\n",
       "      <td>46</td>\n",
       "      <td>{'type': 'FeatureCollection', 'features': [{'g...</td>\n",
       "      <td>380</td>\n",
       "      <td>2018-08-01 01:00:00+02:00</td>\n",
       "      <td>2b98916eebc487417337892097e5fd62157e5ff30f36ec...</td>\n",
       "      <td>1</td>\n",
       "      <td>None</td>\n",
       "    </tr>\n",
       "    <tr>\n",
       "      <th>3</th>\n",
       "      <td>5b6779012f384302541d681a</td>\n",
       "      <td>4</td>\n",
       "      <td>135</td>\n",
       "      <td>52</td>\n",
       "      <td>None</td>\n",
       "      <td>452</td>\n",
       "      <td>2018-08-01 01:00:00+02:00</td>\n",
       "      <td>352aa705c3ca4146bf081ff6ef02c3dea49ec041bfa669...</td>\n",
       "      <td>1</td>\n",
       "      <td>28045</td>\n",
       "    </tr>\n",
       "    <tr>\n",
       "      <th>4</th>\n",
       "      <td>5b6779012f384302541d681b</td>\n",
       "      <td>0</td>\n",
       "      <td>80</td>\n",
       "      <td>46</td>\n",
       "      <td>{'type': 'FeatureCollection', 'features': [{'g...</td>\n",
       "      <td>434</td>\n",
       "      <td>2018-08-01 01:00:00+02:00</td>\n",
       "      <td>536313f31d355a00044d8061428adc6c23b7e7b29d8ad0...</td>\n",
       "      <td>1</td>\n",
       "      <td>None</td>\n",
       "    </tr>\n",
       "  </tbody>\n",
       "</table>\n",
       "</div>"
      ],
      "text/plain": [
       "                        _id ageRange idplug_station idunplug_station  \\\n",
       "0  5b6779012f384302541d6813        0             43                1   \n",
       "1  5b6779012f384302541d6814        0             11              163   \n",
       "2  5b6779012f384302541d6819        0             80               46   \n",
       "3  5b6779012f384302541d681a        4            135               52   \n",
       "4  5b6779012f384302541d681b        0             80               46   \n",
       "\n",
       "                                               track  travel_time  \\\n",
       "0  {'type': 'FeatureCollection', 'features': [{'g...          228   \n",
       "1  {'type': 'FeatureCollection', 'features': [{'g...          378   \n",
       "2  {'type': 'FeatureCollection', 'features': [{'g...          380   \n",
       "3                                               None          452   \n",
       "4  {'type': 'FeatureCollection', 'features': [{'g...          434   \n",
       "\n",
       "            unplug_hourTime  \\\n",
       "0 2018-08-01 01:00:00+02:00   \n",
       "1 2018-08-01 01:00:00+02:00   \n",
       "2 2018-08-01 01:00:00+02:00   \n",
       "3 2018-08-01 01:00:00+02:00   \n",
       "4 2018-08-01 01:00:00+02:00   \n",
       "\n",
       "                                       user_day_code user_type zip_code  \n",
       "0  6c30d6e283ea7a160379fa9adb20b93d2c06e16853ad08...         1     None  \n",
       "1  88de7f2b4cb6d46c31cd610e3366f0a099b78f6edf1330...         1     None  \n",
       "2  2b98916eebc487417337892097e5fd62157e5ff30f36ec...         1     None  \n",
       "3  352aa705c3ca4146bf081ff6ef02c3dea49ec041bfa669...         1    28045  \n",
       "4  536313f31d355a00044d8061428adc6c23b7e7b29d8ad0...         1     None  "
      ]
     },
     "execution_count": 117,
     "metadata": {},
     "output_type": "execute_result"
    }
   ],
   "source": [
    "ridesjson.head()"
   ]
  },
  {
   "cell_type": "code",
   "execution_count": 107,
   "metadata": {},
   "outputs": [
    {
     "data": {
      "text/html": [
       "<div>\n",
       "<style scoped>\n",
       "    .dataframe tbody tr th:only-of-type {\n",
       "        vertical-align: middle;\n",
       "    }\n",
       "\n",
       "    .dataframe tbody tr th {\n",
       "        vertical-align: top;\n",
       "    }\n",
       "\n",
       "    .dataframe thead th {\n",
       "        text-align: right;\n",
       "    }\n",
       "</style>\n",
       "<table border=\"1\" class=\"dataframe\">\n",
       "  <thead>\n",
       "    <tr style=\"text-align: right;\">\n",
       "      <th></th>\n",
       "      <th>_id</th>\n",
       "      <th>ageRange</th>\n",
       "      <th>idplug_station</th>\n",
       "      <th>idunplug_station</th>\n",
       "      <th>track</th>\n",
       "      <th>travel_time</th>\n",
       "      <th>unplug_hourTime</th>\n",
       "      <th>user_day_code</th>\n",
       "      <th>user_type</th>\n",
       "      <th>zip_code</th>\n",
       "    </tr>\n",
       "  </thead>\n",
       "  <tbody>\n",
       "    <tr>\n",
       "      <th>274117</th>\n",
       "      <td>5b8c62cb2f38432c70d0921a</td>\n",
       "      <td>0</td>\n",
       "      <td>129</td>\n",
       "      <td>90</td>\n",
       "      <td>{'type': 'FeatureCollection', 'features': [{'g...</td>\n",
       "      <td>760</td>\n",
       "      <td>2018-08-29 00:00:00+02:00</td>\n",
       "      <td>5c0c78a679bb2161772e2ee2445692b7fe5a0c7655bac8...</td>\n",
       "      <td>1</td>\n",
       "      <td>None</td>\n",
       "    </tr>\n",
       "    <tr>\n",
       "      <th>274118</th>\n",
       "      <td>5b8c62cb2f38432c70d0921b</td>\n",
       "      <td>6</td>\n",
       "      <td>140</td>\n",
       "      <td>95</td>\n",
       "      <td>{'type': 'FeatureCollection', 'features': [{'g...</td>\n",
       "      <td>738</td>\n",
       "      <td>2018-08-29 00:00:00+02:00</td>\n",
       "      <td>a02b82e667da1fb85b73a29a05ddceada1b5dab16172d6...</td>\n",
       "      <td>1</td>\n",
       "      <td>28039</td>\n",
       "    </tr>\n",
       "    <tr>\n",
       "      <th>274119</th>\n",
       "      <td>5b8c62cb2f38432c70d0921c</td>\n",
       "      <td>4</td>\n",
       "      <td>95</td>\n",
       "      <td>172</td>\n",
       "      <td>{'type': 'FeatureCollection', 'features': [{'g...</td>\n",
       "      <td>868</td>\n",
       "      <td>2018-08-29 00:00:00+02:00</td>\n",
       "      <td>52d96c4f5f152b0bee0794f2511e9dd9bd377022af1fad...</td>\n",
       "      <td>1</td>\n",
       "      <td>28001</td>\n",
       "    </tr>\n",
       "    <tr>\n",
       "      <th>274120</th>\n",
       "      <td>5b8c62cb2f38432c70d0921d</td>\n",
       "      <td>2</td>\n",
       "      <td>136</td>\n",
       "      <td>46</td>\n",
       "      <td>None</td>\n",
       "      <td>990</td>\n",
       "      <td>2018-08-29 00:00:00+02:00</td>\n",
       "      <td>adf9662785e341aa1aff172dcf1ee2c91f761a51497720...</td>\n",
       "      <td>1</td>\n",
       "      <td>28005</td>\n",
       "    </tr>\n",
       "    <tr>\n",
       "      <th>274121</th>\n",
       "      <td>5b8c62cb2f38432c70d0921e</td>\n",
       "      <td>0</td>\n",
       "      <td>132</td>\n",
       "      <td>114</td>\n",
       "      <td>{'type': 'FeatureCollection', 'features': [{'g...</td>\n",
       "      <td>1005</td>\n",
       "      <td>2018-08-29 00:00:00+02:00</td>\n",
       "      <td>1c873fa1b5f2253566faa1d54299cf4af00b6dfb3ebd4e...</td>\n",
       "      <td>1</td>\n",
       "      <td>None</td>\n",
       "    </tr>\n",
       "  </tbody>\n",
       "</table>\n",
       "</div>"
      ],
      "text/plain": [
       "                             _id  ageRange  idplug_station  idunplug_station  \\\n",
       "274117  5b8c62cb2f38432c70d0921a         0             129                90   \n",
       "274118  5b8c62cb2f38432c70d0921b         6             140                95   \n",
       "274119  5b8c62cb2f38432c70d0921c         4              95               172   \n",
       "274120  5b8c62cb2f38432c70d0921d         2             136                46   \n",
       "274121  5b8c62cb2f38432c70d0921e         0             132               114   \n",
       "\n",
       "                                                    track  travel_time  \\\n",
       "274117  {'type': 'FeatureCollection', 'features': [{'g...          760   \n",
       "274118  {'type': 'FeatureCollection', 'features': [{'g...          738   \n",
       "274119  {'type': 'FeatureCollection', 'features': [{'g...          868   \n",
       "274120                                               None          990   \n",
       "274121  {'type': 'FeatureCollection', 'features': [{'g...         1005   \n",
       "\n",
       "                 unplug_hourTime  \\\n",
       "274117 2018-08-29 00:00:00+02:00   \n",
       "274118 2018-08-29 00:00:00+02:00   \n",
       "274119 2018-08-29 00:00:00+02:00   \n",
       "274120 2018-08-29 00:00:00+02:00   \n",
       "274121 2018-08-29 00:00:00+02:00   \n",
       "\n",
       "                                            user_day_code  user_type zip_code  \n",
       "274117  5c0c78a679bb2161772e2ee2445692b7fe5a0c7655bac8...          1     None  \n",
       "274118  a02b82e667da1fb85b73a29a05ddceada1b5dab16172d6...          1    28039  \n",
       "274119  52d96c4f5f152b0bee0794f2511e9dd9bd377022af1fad...          1    28001  \n",
       "274120  adf9662785e341aa1aff172dcf1ee2c91f761a51497720...          1    28005  \n",
       "274121  1c873fa1b5f2253566faa1d54299cf4af00b6dfb3ebd4e...          1     None  "
      ]
     },
     "execution_count": 107,
     "metadata": {},
     "output_type": "execute_result"
    }
   ],
   "source": [
    "ridesjson.tail()"
   ]
  },
  {
   "cell_type": "code",
   "execution_count": 58,
   "metadata": {
    "collapsed": true
   },
   "outputs": [
    {
     "ename": "ParseError",
     "evalue": "Expecting a string 1533078000000",
     "output_type": "error",
     "traceback": [
      "\u001b[1;31m---------------------------------------------------------------------------\u001b[0m",
      "\u001b[1;31mParseError\u001b[0m                                Traceback (most recent call last)",
      "\u001b[1;32m<ipython-input-58-ed494fc882e4>\u001b[0m in \u001b[0;36m<module>\u001b[1;34m()\u001b[0m\n\u001b[0;32m      1\u001b[0m \u001b[1;31m#Parsing a formato fecha gestionando correctamente el huso horario\u001b[0m\u001b[1;33m\u001b[0m\u001b[1;33m\u001b[0m\u001b[0m\n\u001b[1;32m----> 2\u001b[1;33m \u001b[0mridesjson\u001b[0m\u001b[1;33m[\u001b[0m\u001b[1;34m'unplug_hourTime'\u001b[0m\u001b[1;33m]\u001b[0m\u001b[1;33m=\u001b[0m\u001b[0mpd\u001b[0m\u001b[1;33m.\u001b[0m\u001b[0mto_datetime\u001b[0m\u001b[1;33m(\u001b[0m\u001b[0mridesjson\u001b[0m\u001b[1;33m[\u001b[0m\u001b[1;34m'unplug_hourTime'\u001b[0m\u001b[1;33m]\u001b[0m\u001b[1;33m.\u001b[0m\u001b[0mapply\u001b[0m\u001b[1;33m(\u001b[0m\u001b[0miso8601\u001b[0m\u001b[1;33m.\u001b[0m\u001b[0mparse_date\u001b[0m\u001b[1;33m)\u001b[0m\u001b[1;33m)\u001b[0m\u001b[1;33m\u001b[0m\u001b[0m\n\u001b[0m",
      "\u001b[1;32m~\\Anaconda3\\lib\\site-packages\\pandas\\core\\series.py\u001b[0m in \u001b[0;36mapply\u001b[1;34m(self, func, convert_dtype, args, **kwds)\u001b[0m\n\u001b[0;32m   3190\u001b[0m             \u001b[1;32melse\u001b[0m\u001b[1;33m:\u001b[0m\u001b[1;33m\u001b[0m\u001b[0m\n\u001b[0;32m   3191\u001b[0m                 \u001b[0mvalues\u001b[0m \u001b[1;33m=\u001b[0m \u001b[0mself\u001b[0m\u001b[1;33m.\u001b[0m\u001b[0mastype\u001b[0m\u001b[1;33m(\u001b[0m\u001b[0mobject\u001b[0m\u001b[1;33m)\u001b[0m\u001b[1;33m.\u001b[0m\u001b[0mvalues\u001b[0m\u001b[1;33m\u001b[0m\u001b[0m\n\u001b[1;32m-> 3192\u001b[1;33m                 \u001b[0mmapped\u001b[0m \u001b[1;33m=\u001b[0m \u001b[0mlib\u001b[0m\u001b[1;33m.\u001b[0m\u001b[0mmap_infer\u001b[0m\u001b[1;33m(\u001b[0m\u001b[0mvalues\u001b[0m\u001b[1;33m,\u001b[0m \u001b[0mf\u001b[0m\u001b[1;33m,\u001b[0m \u001b[0mconvert\u001b[0m\u001b[1;33m=\u001b[0m\u001b[0mconvert_dtype\u001b[0m\u001b[1;33m)\u001b[0m\u001b[1;33m\u001b[0m\u001b[0m\n\u001b[0m\u001b[0;32m   3193\u001b[0m \u001b[1;33m\u001b[0m\u001b[0m\n\u001b[0;32m   3194\u001b[0m         \u001b[1;32mif\u001b[0m \u001b[0mlen\u001b[0m\u001b[1;33m(\u001b[0m\u001b[0mmapped\u001b[0m\u001b[1;33m)\u001b[0m \u001b[1;32mand\u001b[0m \u001b[0misinstance\u001b[0m\u001b[1;33m(\u001b[0m\u001b[0mmapped\u001b[0m\u001b[1;33m[\u001b[0m\u001b[1;36m0\u001b[0m\u001b[1;33m]\u001b[0m\u001b[1;33m,\u001b[0m \u001b[0mSeries\u001b[0m\u001b[1;33m)\u001b[0m\u001b[1;33m:\u001b[0m\u001b[1;33m\u001b[0m\u001b[0m\n",
      "\u001b[1;32mpandas/_libs/src\\inference.pyx\u001b[0m in \u001b[0;36mpandas._libs.lib.map_infer\u001b[1;34m()\u001b[0m\n",
      "\u001b[1;32m~\\Anaconda3\\lib\\site-packages\\iso8601\\iso8601.py\u001b[0m in \u001b[0;36mparse_date\u001b[1;34m(datestring, default_timezone)\u001b[0m\n\u001b[0;32m    190\u001b[0m     \"\"\"\n\u001b[0;32m    191\u001b[0m     \u001b[1;32mif\u001b[0m \u001b[1;32mnot\u001b[0m \u001b[0misinstance\u001b[0m\u001b[1;33m(\u001b[0m\u001b[0mdatestring\u001b[0m\u001b[1;33m,\u001b[0m \u001b[0m_basestring\u001b[0m\u001b[1;33m)\u001b[0m\u001b[1;33m:\u001b[0m\u001b[1;33m\u001b[0m\u001b[0m\n\u001b[1;32m--> 192\u001b[1;33m         \u001b[1;32mraise\u001b[0m \u001b[0mParseError\u001b[0m\u001b[1;33m(\u001b[0m\u001b[1;34m\"Expecting a string %r\"\u001b[0m \u001b[1;33m%\u001b[0m \u001b[0mdatestring\u001b[0m\u001b[1;33m)\u001b[0m\u001b[1;33m\u001b[0m\u001b[0m\n\u001b[0m\u001b[0;32m    193\u001b[0m     \u001b[0mm\u001b[0m \u001b[1;33m=\u001b[0m \u001b[0mISO8601_REGEX\u001b[0m\u001b[1;33m.\u001b[0m\u001b[0mmatch\u001b[0m\u001b[1;33m(\u001b[0m\u001b[0mdatestring\u001b[0m\u001b[1;33m)\u001b[0m\u001b[1;33m\u001b[0m\u001b[0m\n\u001b[0;32m    194\u001b[0m     \u001b[1;32mif\u001b[0m \u001b[1;32mnot\u001b[0m \u001b[0mm\u001b[0m\u001b[1;33m:\u001b[0m\u001b[1;33m\u001b[0m\u001b[0m\n",
      "\u001b[1;31mParseError\u001b[0m: Expecting a string 1533078000000"
     ]
    }
   ],
   "source": [
    "#Parsing a formato fecha gestionando correctamente el huso horario\n",
    "ridesjson['unplug_hourTime']=pd.Series(pd.DatetimeIndex(ridesjson['unplug_hourTime']).tz_localize('UTC').tz_convert('CET'))"
   ]
  },
  {
   "cell_type": "code",
   "execution_count": 49,
   "metadata": {},
   "outputs": [],
   "source": [
    "#pandas-dev Issue #21892 doesn't allow to deal with categories as a dtype on read_json, so we make the conversion here\n",
    "ridesjson[['ageRange','idplug_station','idunplug_station','user_type']]=\\\n",
    "ridesjson[['ageRange','idplug_station','idunplug_station','user_type']].astype('category')"
   ]
  },
  {
   "cell_type": "code",
   "execution_count": 138,
   "metadata": {
    "scrolled": false
   },
   "outputs": [
    {
     "data": {
      "text/plain": [
       "_id                              object\n",
       "ageRange                       category\n",
       "idplug_station                 category\n",
       "idunplug_station               category\n",
       "track                            object\n",
       "travel_time                       int64\n",
       "unplug_hourTime     datetime64[ns, CET]\n",
       "user_day_code                    object\n",
       "user_type                      category\n",
       "zip_code                         object\n",
       "dtype: object"
      ]
     },
     "execution_count": 138,
     "metadata": {},
     "output_type": "execute_result"
    }
   ],
   "source": [
    "ridesjson.dtypes"
   ]
  },
  {
   "cell_type": "markdown",
   "metadata": {},
   "source": [
    "***\n",
    "***\n",
    "**Hasta aquí pruebas de export e import a JSON (para continuar lo siguiente en otro notebook...)**\n",
    "***\n",
    "\n"
   ]
  },
  {
   "cell_type": "markdown",
   "metadata": {},
   "source": [
    "Número de trayectos y duración media por grupo de edad:"
   ]
  },
  {
   "cell_type": "code",
   "execution_count": 24,
   "metadata": {},
   "outputs": [
    {
     "data": {
      "text/html": [
       "<div>\n",
       "<style scoped>\n",
       "    .dataframe tbody tr th:only-of-type {\n",
       "        vertical-align: middle;\n",
       "    }\n",
       "\n",
       "    .dataframe tbody tr th {\n",
       "        vertical-align: top;\n",
       "    }\n",
       "\n",
       "    .dataframe thead th {\n",
       "        text-align: right;\n",
       "    }\n",
       "</style>\n",
       "<table border=\"1\" class=\"dataframe\">\n",
       "  <thead>\n",
       "    <tr style=\"text-align: right;\">\n",
       "      <th></th>\n",
       "      <th>count</th>\n",
       "      <th>mean</th>\n",
       "    </tr>\n",
       "    <tr>\n",
       "      <th>ageRange</th>\n",
       "      <th></th>\n",
       "      <th></th>\n",
       "    </tr>\n",
       "  </thead>\n",
       "  <tbody>\n",
       "    <tr>\n",
       "      <th>0</th>\n",
       "      <td>117311</td>\n",
       "      <td>00:21:33</td>\n",
       "    </tr>\n",
       "    <tr>\n",
       "      <th>1</th>\n",
       "      <td>2850</td>\n",
       "      <td>00:38:54</td>\n",
       "    </tr>\n",
       "    <tr>\n",
       "      <th>2</th>\n",
       "      <td>2043</td>\n",
       "      <td>00:16:40</td>\n",
       "    </tr>\n",
       "    <tr>\n",
       "      <th>3</th>\n",
       "      <td>15525</td>\n",
       "      <td>00:15:26</td>\n",
       "    </tr>\n",
       "    <tr>\n",
       "      <th>4</th>\n",
       "      <td>85418</td>\n",
       "      <td>00:16:21</td>\n",
       "    </tr>\n",
       "    <tr>\n",
       "      <th>5</th>\n",
       "      <td>49859</td>\n",
       "      <td>00:20:26</td>\n",
       "    </tr>\n",
       "    <tr>\n",
       "      <th>6</th>\n",
       "      <td>1116</td>\n",
       "      <td>00:23:00</td>\n",
       "    </tr>\n",
       "  </tbody>\n",
       "</table>\n",
       "</div>"
      ],
      "text/plain": [
       "           count     mean\n",
       "ageRange                 \n",
       "0         117311 00:21:33\n",
       "1           2850 00:38:54\n",
       "2           2043 00:16:40\n",
       "3          15525 00:15:26\n",
       "4          85418 00:16:21\n",
       "5          49859 00:20:26\n",
       "6           1116 00:23:00"
      ]
     },
     "execution_count": 24,
     "metadata": {},
     "output_type": "execute_result"
    }
   ],
   "source": [
    "ageStats=rides[['ageRange','travel_time']].groupby('ageRange').agg(['count','mean'])\n",
    "ageStats.columns=ageStats.columns.droplevel()\n",
    "ageStats['mean']=ageStats['mean'].astype('timedelta64[s]')\n",
    "ageStats\n"
   ]
  },
  {
   "cell_type": "code",
   "execution_count": 60,
   "metadata": {},
   "outputs": [
    {
     "data": {
      "text/html": [
       "<div>\n",
       "<style scoped>\n",
       "    .dataframe tbody tr th:only-of-type {\n",
       "        vertical-align: middle;\n",
       "    }\n",
       "\n",
       "    .dataframe tbody tr th {\n",
       "        vertical-align: top;\n",
       "    }\n",
       "\n",
       "    .dataframe thead th {\n",
       "        text-align: right;\n",
       "    }\n",
       "</style>\n",
       "<table border=\"1\" class=\"dataframe\">\n",
       "  <thead>\n",
       "    <tr style=\"text-align: right;\">\n",
       "      <th></th>\n",
       "      <th>geometry</th>\n",
       "      <th>secondsfromstart</th>\n",
       "      <th>speed</th>\n",
       "      <th>var</th>\n",
       "    </tr>\n",
       "  </thead>\n",
       "  <tbody>\n",
       "    <tr>\n",
       "      <th>0</th>\n",
       "      <td>POINT (-3.7078158 40.4127144997222)</td>\n",
       "      <td>190</td>\n",
       "      <td>6.19</td>\n",
       "      <td>28005,ES,Madrid,Madrid,CALLE SAN BRUNO 1,Madrid</td>\n",
       "    </tr>\n",
       "    <tr>\n",
       "      <th>1</th>\n",
       "      <td>POINT (-3.7071841 40.4156114997222)</td>\n",
       "      <td>130</td>\n",
       "      <td>3.47</td>\n",
       "      <td>28012,ES,Madrid,Madrid,PLAZA MAYOR 27,Madrid</td>\n",
       "    </tr>\n",
       "    <tr>\n",
       "      <th>2</th>\n",
       "      <td>POINT (-3.7048058 40.4167895)</td>\n",
       "      <td>71</td>\n",
       "      <td>3.61</td>\n",
       "      <td>28013,ES,Madrid,Madrid,CALLE ARENAL 1,Madrid</td>\n",
       "    </tr>\n",
       "  </tbody>\n",
       "</table>\n",
       "</div>"
      ],
      "text/plain": [
       "                              geometry  secondsfromstart  speed  \\\n",
       "0  POINT (-3.7078158 40.4127144997222)               190   6.19   \n",
       "1  POINT (-3.7071841 40.4156114997222)               130   3.47   \n",
       "2        POINT (-3.7048058 40.4167895)                71   3.61   \n",
       "\n",
       "                                               var  \n",
       "0  28005,ES,Madrid,Madrid,CALLE SAN BRUNO 1,Madrid  \n",
       "1     28012,ES,Madrid,Madrid,PLAZA MAYOR 27,Madrid  \n",
       "2     28013,ES,Madrid,Madrid,CALLE ARENAL 1,Madrid  "
      ]
     },
     "execution_count": 60,
     "metadata": {},
     "output_type": "execute_result"
    }
   ],
   "source": [
    "test=gpd.GeoDataFrame.from_features(rides['track'][0]['features'], crs='WGS84')\n",
    "test"
   ]
  },
  {
   "cell_type": "code",
   "execution_count": 54,
   "metadata": {},
   "outputs": [
    {
     "data": {
      "text/plain": [
       "0    POINT (-3.7078158 40.4127144997222)\n",
       "1    POINT (-3.7071841 40.4156114997222)\n",
       "2          POINT (-3.7048058 40.4167895)\n",
       "Name: geometry, dtype: object"
      ]
     },
     "execution_count": 54,
     "metadata": {},
     "output_type": "execute_result"
    }
   ],
   "source": [
    "hola['geometry']"
   ]
  },
  {
   "cell_type": "code",
   "execution_count": 58,
   "metadata": {},
   "outputs": [
    {
     "data": {
      "image/svg+xml": [
       "<svg xmlns=\"http://www.w3.org/2000/svg\" xmlns:xlink=\"http://www.w3.org/1999/xlink\" width=\"100.0\" height=\"100.0\" viewBox=\"-3.7079788000111122 40.412551499711086 0.00333600002222445 0.004401000300028102\" preserveAspectRatio=\"xMinYMin meet\"><g transform=\"matrix(1,0,0,-1,0,80.82950399972219)\"><polyline fill=\"none\" stroke=\"#66cc99\" stroke-width=\"8.802000600056204e-05\" points=\"-3.7078158,40.4127144997222 -3.7071841,40.4156114997222 -3.7048058,40.4167895\" opacity=\"0.8\" /></g></svg>"
      ],
      "text/plain": [
       "<shapely.geometry.linestring.LineString at 0x14ff7d987b8>"
      ]
     },
     "execution_count": 58,
     "metadata": {},
     "output_type": "execute_result"
    }
   ],
   "source": [
    "LineString(hola['geometry'])"
   ]
  },
  {
   "cell_type": "code",
   "execution_count": 59,
   "metadata": {},
   "outputs": [
    {
     "data": {
      "image/svg+xml": [
       "<svg xmlns=\"http://www.w3.org/2000/svg\" xmlns:xlink=\"http://www.w3.org/1999/xlink\" width=\"100.0\" height=\"100.0\" viewBox=\"-0.04 -0.04 1.08 1.08\" preserveAspectRatio=\"xMinYMin meet\"><g transform=\"matrix(1,0,0,-1,0,1.0)\"><path fill-rule=\"evenodd\" fill=\"#66cc99\" stroke=\"#555555\" stroke-width=\"0.0216\" opacity=\"0.6\" d=\"M 0.0,0.0 L 1.0,1.0 L 1.0,0.0 L 0.0,0.0 z\" /></g></svg>"
      ],
      "text/plain": [
       "<shapely.geometry.polygon.Polygon at 0x151edb5cda0>"
      ]
     },
     "execution_count": 59,
     "metadata": {},
     "output_type": "execute_result"
    }
   ],
   "source": [
    "polygon = Polygon([(0, 0), (1, 1), (1, 0)])\n",
    "polygon"
   ]
  },
  {
   "cell_type": "code",
   "execution_count": 57,
   "metadata": {},
   "outputs": [
    {
     "data": {
      "text/plain": [
       "3.414213562373095"
      ]
     },
     "execution_count": 57,
     "metadata": {},
     "output_type": "execute_result"
    }
   ],
   "source": [
    "polygon.length"
   ]
  },
  {
   "cell_type": "markdown",
   "metadata": {},
   "source": [
    "#### Análisis del tiempo de trayecto (travel_time)"
   ]
  },
  {
   "cell_type": "code",
   "execution_count": 4,
   "metadata": {},
   "outputs": [],
   "source": [
    "import matplotlib.pyplot as plt"
   ]
  },
  {
   "cell_type": "code",
   "execution_count": 5,
   "metadata": {},
   "outputs": [
    {
     "ename": "NameError",
     "evalue": "name 'rides' is not defined",
     "output_type": "error",
     "traceback": [
      "\u001b[1;31m---------------------------------------------------------------------------\u001b[0m",
      "\u001b[1;31mNameError\u001b[0m                                 Traceback (most recent call last)",
      "\u001b[1;32m<ipython-input-5-1a8053e654a9>\u001b[0m in \u001b[0;36m<module>\u001b[1;34m()\u001b[0m\n\u001b[0;32m      1\u001b[0m \u001b[0mfig\u001b[0m\u001b[1;33m,\u001b[0m \u001b[0max\u001b[0m \u001b[1;33m=\u001b[0m \u001b[0mplt\u001b[0m\u001b[1;33m.\u001b[0m\u001b[0msubplots\u001b[0m\u001b[1;33m(\u001b[0m\u001b[1;33m)\u001b[0m\u001b[1;33m\u001b[0m\u001b[0m\n\u001b[1;32m----> 2\u001b[1;33m \u001b[0mrides\u001b[0m\u001b[1;33m[\u001b[0m\u001b[0mrides\u001b[0m\u001b[1;33m[\u001b[0m\u001b[1;34m'user_type'\u001b[0m\u001b[1;33m]\u001b[0m\u001b[1;33m==\u001b[0m\u001b[1;36m3\u001b[0m\u001b[1;33m]\u001b[0m\u001b[1;33m[\u001b[0m\u001b[1;34m'travel_time'\u001b[0m\u001b[1;33m]\u001b[0m\u001b[1;33m.\u001b[0m\u001b[0mhist\u001b[0m\u001b[1;33m(\u001b[0m\u001b[0max\u001b[0m\u001b[1;33m=\u001b[0m\u001b[0max\u001b[0m\u001b[1;33m,\u001b[0m \u001b[0mbins\u001b[0m\u001b[1;33m=\u001b[0m\u001b[1;36m100\u001b[0m\u001b[1;33m)\u001b[0m\u001b[1;33m\u001b[0m\u001b[0m\n\u001b[0m\u001b[0;32m      3\u001b[0m \u001b[0max\u001b[0m\u001b[1;33m.\u001b[0m\u001b[0mset_yscale\u001b[0m\u001b[1;33m(\u001b[0m\u001b[1;34m'log'\u001b[0m\u001b[1;33m)\u001b[0m\u001b[1;33m\u001b[0m\u001b[0m\n",
      "\u001b[1;31mNameError\u001b[0m: name 'rides' is not defined"
     ]
    },
    {
     "data": {
      "image/png": "[encoded data removed]",
      "text/plain": [
       "<Figure size 432x288 with 1 Axes>"
      ]
     },
     "metadata": {},
     "output_type": "display_data"
    }
   ],
   "source": [
    "fig, ax = plt.subplots()\n",
    "rides['travel_time'].hist(ax=ax, bins=100)\n",
    "ax.set_yscale('log')"
   ]
  },
  {
   "cell_type": "code",
   "execution_count": 191,
   "metadata": {},
   "outputs": [
    {
     "data": {
      "image/png": "[encoded data removed]",
      "text/plain": [
       "<Figure size 432x288 with 1 Axes>"
      ]
     },
     "metadata": {},
     "output_type": "display_data"
    }
   ],
   "source": [
    "#Histograma de rides de más de 1 hora (menos de un 5% de los trayectos)\n",
    "fig, ax = plt.subplots()\n",
    "rides['travel_time'][rides.travel_time>3600].hist(ax=ax, bins=20)\n",
    "ax.set_yscale('log')"
   ]
  },
  {
   "cell_type": "code",
   "execution_count": 201,
   "metadata": {},
   "outputs": [
    {
     "data": {
      "text/plain": [
       "<matplotlib.axes._subplots.AxesSubplot at 0x22b06456c18>"
      ]
     },
     "execution_count": 201,
     "metadata": {},
     "output_type": "execute_result"
    },
    {
     "data": {
      "image/png": "[encoded data removed]",
      "text/plain": [
       "<Figure size 432x288 with 1 Axes>"
      ]
     },
     "metadata": {},
     "output_type": "display_data"
    }
   ],
   "source": [
    "#Histograma de rides entre 1 y 2 horas (menos de un 5% de los trayectos)\n",
    "rides['travel_time'][rides.travel_time.between(3600,7200)].hist()"
   ]
  },
  {
   "cell_type": "code",
   "execution_count": 204,
   "metadata": {},
   "outputs": [
    {
     "data": {
      "text/plain": [
       "717.0"
      ]
     },
     "execution_count": 204,
     "metadata": {},
     "output_type": "execute_result"
    }
   ],
   "source": [
    "rides['travel_time'].quantile(0.5)"
   ]
  },
  {
   "cell_type": "code",
   "execution_count": 180,
   "metadata": {},
   "outputs": [
    {
     "data": {
      "text/plain": [
       "count    224536.000000\n",
       "mean       1198.011945\n",
       "std        4211.352686\n",
       "min           5.000000\n",
       "25%         476.000000\n",
       "50%         717.000000\n",
       "75%        1126.000000\n",
       "max      602436.000000\n",
       "Name: travel_time, dtype: float64"
      ]
     },
     "execution_count": 180,
     "metadata": {},
     "output_type": "execute_result"
    }
   ],
   "source": [
    "rides['travel_time'].describe()"
   ]
  },
  {
   "cell_type": "code",
   "execution_count": 203,
   "metadata": {},
   "outputs": [
    {
     "data": {
      "text/plain": [
       "2656"
      ]
     },
     "execution_count": 203,
     "metadata": {},
     "output_type": "execute_result"
    }
   ],
   "source": [
    "rides['travel_time'][rides.travel_time>7200].count()"
   ]
  },
  {
   "cell_type": "code",
   "execution_count": 225,
   "metadata": {},
   "outputs": [
    {
     "data": {
      "text/html": [
       "<div>\n",
       "<style scoped>\n",
       "    .dataframe tbody tr th:only-of-type {\n",
       "        vertical-align: middle;\n",
       "    }\n",
       "\n",
       "    .dataframe tbody tr th {\n",
       "        vertical-align: top;\n",
       "    }\n",
       "\n",
       "    .dataframe thead th {\n",
       "        text-align: right;\n",
       "    }\n",
       "</style>\n",
       "<table border=\"1\" class=\"dataframe\">\n",
       "  <thead>\n",
       "    <tr style=\"text-align: right;\">\n",
       "      <th></th>\n",
       "      <th>_id</th>\n",
       "      <th>ageRange</th>\n",
       "      <th>idplug_station</th>\n",
       "      <th>idunplug_station</th>\n",
       "      <th>track</th>\n",
       "      <th>travel_time</th>\n",
       "      <th>unplug_hourTime</th>\n",
       "      <th>user_day_code</th>\n",
       "      <th>user_type</th>\n",
       "      <th>zip_code</th>\n",
       "      <th>full_track</th>\n",
       "    </tr>\n",
       "  </thead>\n",
       "  <tbody>\n",
       "    <tr>\n",
       "      <th>15807</th>\n",
       "      <td>5b7205452f3843505c6bd191</td>\n",
       "      <td>4</td>\n",
       "      <td>129</td>\n",
       "      <td>145</td>\n",
       "      <td>{'type': 'FeatureCollection', 'features': [{'g...</td>\n",
       "      <td>602436</td>\n",
       "      <td>2018-08-02 08:00:00+02:00</td>\n",
       "      <td>b931c9c65605c12a9223253fba7b7690baf4a599b7c4de...</td>\n",
       "      <td>3</td>\n",
       "      <td>None</td>\n",
       "      <td>{'type': 'FeatureCollection', 'features': [{'g...</td>\n",
       "    </tr>\n",
       "  </tbody>\n",
       "</table>\n",
       "</div>"
      ],
      "text/plain": [
       "                            _id ageRange idplug_station idunplug_station  \\\n",
       "15807  5b7205452f3843505c6bd191        4            129              145   \n",
       "\n",
       "                                                   track  travel_time  \\\n",
       "15807  {'type': 'FeatureCollection', 'features': [{'g...       602436   \n",
       "\n",
       "                unplug_hourTime  \\\n",
       "15807 2018-08-02 08:00:00+02:00   \n",
       "\n",
       "                                           user_day_code user_type zip_code  \\\n",
       "15807  b931c9c65605c12a9223253fba7b7690baf4a599b7c4de...         3     None   \n",
       "\n",
       "                                              full_track  \n",
       "15807  {'type': 'FeatureCollection', 'features': [{'g...  "
      ]
     },
     "execution_count": 225,
     "metadata": {},
     "output_type": "execute_result"
    }
   ],
   "source": [
    "rides[rides.travel_time==rides.travel_time.max()]"
   ]
  },
  {
   "cell_type": "code",
   "execution_count": 210,
   "metadata": {},
   "outputs": [
    {
     "data": {
      "text/plain": [
       "602436"
      ]
     },
     "execution_count": 210,
     "metadata": {},
     "output_type": "execute_result"
    }
   ],
   "source": [
    "rides.travel_time.max()"
   ]
  },
  {
   "cell_type": "code",
   "execution_count": null,
   "metadata": {},
   "outputs": [],
   "source": [
    "import matplotlib.pyplot as plt\n",
    "\n",
    "fig, ax = plt.subplots()\n",
    "rides['travel_time'].hist(ax=ax, bins=100)\n",
    "ax.set_yscale('log')\n",
    "\n",
    "fig, ax = plt.subplots()\n",
    "rides['travel_time'][rides.travel_time>3600].hist(ax=ax, bins=20)\n",
    "ax.set_yscale('log')\n",
    "\n",
    "rides['travel_time'][rides.travel_time.between(3600,7200)].hist()\n",
    "\n",
    "rides['travel_time'].quantile(0.5)\n",
    "\n",
    "rides['travel_time'].describe()\n",
    "\n",
    "rides['travel_time'][rides.travel_time>7200].count()\n",
    "\n",
    "rides[rides.travel_time==rides.travel_time.max()]\n",
    "\n",
    "rides.travel_time.max()"
   ]
  },
  {
   "cell_type": "code",
   "execution_count": null,
   "metadata": {},
   "outputs": [],
   "source": []
  }
 ],
 "metadata": {
  "kernelspec": {
   "display_name": "Python 3",
   "language": "python",
   "name": "python3"
  },
  "language_info": {
   "codemirror_mode": {
    "name": "ipython",
    "version": 3
   },
   "file_extension": ".py",
   "mimetype": "text/x-python",
   "name": "python",
   "nbconvert_exporter": "python",
   "pygments_lexer": "ipython3",
   "version": "3.6.5"
  }
 },
 "nbformat": 4,
 "nbformat_minor": 2
}
